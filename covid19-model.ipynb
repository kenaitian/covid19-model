{
 "cells": [
  {
   "cell_type": "markdown",
   "metadata": {},
   "source": [
    "<a id=\"contents\"></a>\n",
    "\n",
    "# Risk Score Analysis of COVID-19 Data \n",
    "This notebook relates to the exploration of data sets gathered within the USA regarding COVID-19 time-series data from and cause of death data collected from the CDC and collected survey data from client patients.\n",
    "\n",
    "In this notebook we visualize and analyze time-series based data sets related to cause of death mortality and COVID-19.\n",
    "\n",
    "### Table of Contents:\n",
    "* [1. Load Data](#cell1)\n",
    "* [2. Visualize the Data](#cell2)\n",
    "\n",
    "<p><img style=\"float: left; margin:5px 20px 5px 1px; width:40%\" src=\"https://www.nps.gov/aboutus/news/images/CDC-coronavirus-image-23311-for-web.jpg?maxwidth=650&autorotate=false\"></p>"
   ]
  },
  {
   "cell_type": "code",
   "execution_count": null,
   "metadata": {},
   "outputs": [],
   "source": [
    "## Installing packages needed for data processing and visualization\n",
    "## pip(optionally) or conda-forge/packages installation on local machine and/or on the cloud (i.e., IBM Watson) \n",
    "## A Jupyter notebook extension to hide code and prompts - https://pypi.org/project/hide-code/0.2.0/\n",
    "# !pip install mysql PyMySQL mysql-connector-python-rf pandas matplotlib seaborn numpy plotly ipywidgets folium appmode voila voila-gridstack voila-vuetify voila-reveal voila-material ibm_db weaviate-client"
   ]
  },
  {
   "cell_type": "code",
   "execution_count": 2,
   "metadata": {},
   "outputs": [],
   "source": [
    "# Importing the packages\n",
    "import math\n",
    "import numpy as np\n",
    "import pandas as pd\n",
    "import seaborn as sns\n",
    "import requests, json\n",
    "## Database layer interaction\n",
    "import mysql.connector #This installation was a plague\n",
    "# import pymysql\n",
    "from pandas import DataFrame as df\n",
    "from matplotlib import pyplot as plt\n",
    "from IPython.core.display import display, HTML"
   ]
  },
  {
   "cell_type": "markdown",
   "metadata": {},
   "source": [
    "<a id=\"cell1\"></a> [Back to Contents](#contents)\n",
    "\n",
    "### 1. Load Data\n",
    "\n",
    "Read in raw data."
   ]
  },
  {
   "cell_type": "code",
   "execution_count": 3,
   "metadata": {},
   "outputs": [
    {
     "ename": "FileNotFoundError",
     "evalue": "[Errno 2] File C:/Users/IT/Downloads/covid19-model/leading_cause_of_death/good_data/cdc/Deaths_in_122_U.S._cities_-_1962-2016._122_Cities_Mortality_Reporting_System.csv does not exist: 'C:/Users/IT/Downloads/covid19-model/leading_cause_of_death/good_data/cdc/Deaths_in_122_U.S._cities_-_1962-2016._122_Cities_Mortality_Reporting_System.csv'",
     "output_type": "error",
     "traceback": [
      "\u001b[1;31m---------------------------------------------------------------------------\u001b[0m",
      "\u001b[1;31mFileNotFoundError\u001b[0m                         Traceback (most recent call last)",
      "\u001b[1;32m<ipython-input-3-8e15035fac8c>\u001b[0m in \u001b[0;36m<module>\u001b[1;34m\u001b[0m\n\u001b[0;32m      1\u001b[0m \u001b[1;31m#Cause of Death from CDC from 1962 to 2016\u001b[0m\u001b[1;33m\u001b[0m\u001b[1;33m\u001b[0m\u001b[1;33m\u001b[0m\u001b[0m\n\u001b[1;32m----> 2\u001b[1;33m \u001b[0mcdc_cod_data\u001b[0m \u001b[1;33m=\u001b[0m \u001b[0mpd\u001b[0m\u001b[1;33m.\u001b[0m\u001b[0mread_csv\u001b[0m\u001b[1;33m(\u001b[0m\u001b[1;34m'C:/Users/IT/Downloads/covid19-model/leading_cause_of_death/good_data/cdc/Deaths_in_122_U.S._cities_-_1962-2016._122_Cities_Mortality_Reporting_System.csv'\u001b[0m\u001b[1;33m,\u001b[0m \u001b[0mna_filter\u001b[0m\u001b[1;33m=\u001b[0m \u001b[1;32mFalse\u001b[0m\u001b[1;33m)\u001b[0m\u001b[1;33m\u001b[0m\u001b[1;33m\u001b[0m\u001b[0m\n\u001b[0m\u001b[0;32m      3\u001b[0m \u001b[1;33m\u001b[0m\u001b[0m\n\u001b[0;32m      4\u001b[0m \u001b[1;31m#Cause of Death from NCHS from 1999 to 2017\u001b[0m\u001b[1;33m\u001b[0m\u001b[1;33m\u001b[0m\u001b[1;33m\u001b[0m\u001b[0m\n\u001b[0;32m      5\u001b[0m \u001b[0mnchs_cod_data\u001b[0m \u001b[1;33m=\u001b[0m \u001b[0mpd\u001b[0m\u001b[1;33m.\u001b[0m\u001b[0mread_csv\u001b[0m\u001b[1;33m(\u001b[0m\u001b[1;34m'C:/Users/IT/Downloads/covid-analysis/leading_cause_of_death/good_data/nchs/NCHS_-_Leading_Causes_of_Death__United_States.csv'\u001b[0m\u001b[1;33m,\u001b[0m \u001b[0mna_filter\u001b[0m\u001b[1;33m=\u001b[0m \u001b[1;32mFalse\u001b[0m\u001b[1;33m)\u001b[0m\u001b[1;33m\u001b[0m\u001b[1;33m\u001b[0m\u001b[0m\n",
      "\u001b[1;32mc:\\users\\it\\envs\\notebook\\lib\\site-packages\\pandas\\io\\parsers.py\u001b[0m in \u001b[0;36mparser_f\u001b[1;34m(filepath_or_buffer, sep, delimiter, header, names, index_col, usecols, squeeze, prefix, mangle_dupe_cols, dtype, engine, converters, true_values, false_values, skipinitialspace, skiprows, skipfooter, nrows, na_values, keep_default_na, na_filter, verbose, skip_blank_lines, parse_dates, infer_datetime_format, keep_date_col, date_parser, dayfirst, cache_dates, iterator, chunksize, compression, thousands, decimal, lineterminator, quotechar, quoting, doublequote, escapechar, comment, encoding, dialect, error_bad_lines, warn_bad_lines, delim_whitespace, low_memory, memory_map, float_precision)\u001b[0m\n\u001b[0;32m    674\u001b[0m         )\n\u001b[0;32m    675\u001b[0m \u001b[1;33m\u001b[0m\u001b[0m\n\u001b[1;32m--> 676\u001b[1;33m         \u001b[1;32mreturn\u001b[0m \u001b[0m_read\u001b[0m\u001b[1;33m(\u001b[0m\u001b[0mfilepath_or_buffer\u001b[0m\u001b[1;33m,\u001b[0m \u001b[0mkwds\u001b[0m\u001b[1;33m)\u001b[0m\u001b[1;33m\u001b[0m\u001b[1;33m\u001b[0m\u001b[0m\n\u001b[0m\u001b[0;32m    677\u001b[0m \u001b[1;33m\u001b[0m\u001b[0m\n\u001b[0;32m    678\u001b[0m     \u001b[0mparser_f\u001b[0m\u001b[1;33m.\u001b[0m\u001b[0m__name__\u001b[0m \u001b[1;33m=\u001b[0m \u001b[0mname\u001b[0m\u001b[1;33m\u001b[0m\u001b[1;33m\u001b[0m\u001b[0m\n",
      "\u001b[1;32mc:\\users\\it\\envs\\notebook\\lib\\site-packages\\pandas\\io\\parsers.py\u001b[0m in \u001b[0;36m_read\u001b[1;34m(filepath_or_buffer, kwds)\u001b[0m\n\u001b[0;32m    446\u001b[0m \u001b[1;33m\u001b[0m\u001b[0m\n\u001b[0;32m    447\u001b[0m     \u001b[1;31m# Create the parser.\u001b[0m\u001b[1;33m\u001b[0m\u001b[1;33m\u001b[0m\u001b[1;33m\u001b[0m\u001b[0m\n\u001b[1;32m--> 448\u001b[1;33m     \u001b[0mparser\u001b[0m \u001b[1;33m=\u001b[0m \u001b[0mTextFileReader\u001b[0m\u001b[1;33m(\u001b[0m\u001b[0mfp_or_buf\u001b[0m\u001b[1;33m,\u001b[0m \u001b[1;33m**\u001b[0m\u001b[0mkwds\u001b[0m\u001b[1;33m)\u001b[0m\u001b[1;33m\u001b[0m\u001b[1;33m\u001b[0m\u001b[0m\n\u001b[0m\u001b[0;32m    449\u001b[0m \u001b[1;33m\u001b[0m\u001b[0m\n\u001b[0;32m    450\u001b[0m     \u001b[1;32mif\u001b[0m \u001b[0mchunksize\u001b[0m \u001b[1;32mor\u001b[0m \u001b[0miterator\u001b[0m\u001b[1;33m:\u001b[0m\u001b[1;33m\u001b[0m\u001b[1;33m\u001b[0m\u001b[0m\n",
      "\u001b[1;32mc:\\users\\it\\envs\\notebook\\lib\\site-packages\\pandas\\io\\parsers.py\u001b[0m in \u001b[0;36m__init__\u001b[1;34m(self, f, engine, **kwds)\u001b[0m\n\u001b[0;32m    878\u001b[0m             \u001b[0mself\u001b[0m\u001b[1;33m.\u001b[0m\u001b[0moptions\u001b[0m\u001b[1;33m[\u001b[0m\u001b[1;34m\"has_index_names\"\u001b[0m\u001b[1;33m]\u001b[0m \u001b[1;33m=\u001b[0m \u001b[0mkwds\u001b[0m\u001b[1;33m[\u001b[0m\u001b[1;34m\"has_index_names\"\u001b[0m\u001b[1;33m]\u001b[0m\u001b[1;33m\u001b[0m\u001b[1;33m\u001b[0m\u001b[0m\n\u001b[0;32m    879\u001b[0m \u001b[1;33m\u001b[0m\u001b[0m\n\u001b[1;32m--> 880\u001b[1;33m         \u001b[0mself\u001b[0m\u001b[1;33m.\u001b[0m\u001b[0m_make_engine\u001b[0m\u001b[1;33m(\u001b[0m\u001b[0mself\u001b[0m\u001b[1;33m.\u001b[0m\u001b[0mengine\u001b[0m\u001b[1;33m)\u001b[0m\u001b[1;33m\u001b[0m\u001b[1;33m\u001b[0m\u001b[0m\n\u001b[0m\u001b[0;32m    881\u001b[0m \u001b[1;33m\u001b[0m\u001b[0m\n\u001b[0;32m    882\u001b[0m     \u001b[1;32mdef\u001b[0m \u001b[0mclose\u001b[0m\u001b[1;33m(\u001b[0m\u001b[0mself\u001b[0m\u001b[1;33m)\u001b[0m\u001b[1;33m:\u001b[0m\u001b[1;33m\u001b[0m\u001b[1;33m\u001b[0m\u001b[0m\n",
      "\u001b[1;32mc:\\users\\it\\envs\\notebook\\lib\\site-packages\\pandas\\io\\parsers.py\u001b[0m in \u001b[0;36m_make_engine\u001b[1;34m(self, engine)\u001b[0m\n\u001b[0;32m   1112\u001b[0m     \u001b[1;32mdef\u001b[0m \u001b[0m_make_engine\u001b[0m\u001b[1;33m(\u001b[0m\u001b[0mself\u001b[0m\u001b[1;33m,\u001b[0m \u001b[0mengine\u001b[0m\u001b[1;33m=\u001b[0m\u001b[1;34m\"c\"\u001b[0m\u001b[1;33m)\u001b[0m\u001b[1;33m:\u001b[0m\u001b[1;33m\u001b[0m\u001b[1;33m\u001b[0m\u001b[0m\n\u001b[0;32m   1113\u001b[0m         \u001b[1;32mif\u001b[0m \u001b[0mengine\u001b[0m \u001b[1;33m==\u001b[0m \u001b[1;34m\"c\"\u001b[0m\u001b[1;33m:\u001b[0m\u001b[1;33m\u001b[0m\u001b[1;33m\u001b[0m\u001b[0m\n\u001b[1;32m-> 1114\u001b[1;33m             \u001b[0mself\u001b[0m\u001b[1;33m.\u001b[0m\u001b[0m_engine\u001b[0m \u001b[1;33m=\u001b[0m \u001b[0mCParserWrapper\u001b[0m\u001b[1;33m(\u001b[0m\u001b[0mself\u001b[0m\u001b[1;33m.\u001b[0m\u001b[0mf\u001b[0m\u001b[1;33m,\u001b[0m \u001b[1;33m**\u001b[0m\u001b[0mself\u001b[0m\u001b[1;33m.\u001b[0m\u001b[0moptions\u001b[0m\u001b[1;33m)\u001b[0m\u001b[1;33m\u001b[0m\u001b[1;33m\u001b[0m\u001b[0m\n\u001b[0m\u001b[0;32m   1115\u001b[0m         \u001b[1;32melse\u001b[0m\u001b[1;33m:\u001b[0m\u001b[1;33m\u001b[0m\u001b[1;33m\u001b[0m\u001b[0m\n\u001b[0;32m   1116\u001b[0m             \u001b[1;32mif\u001b[0m \u001b[0mengine\u001b[0m \u001b[1;33m==\u001b[0m \u001b[1;34m\"python\"\u001b[0m\u001b[1;33m:\u001b[0m\u001b[1;33m\u001b[0m\u001b[1;33m\u001b[0m\u001b[0m\n",
      "\u001b[1;32mc:\\users\\it\\envs\\notebook\\lib\\site-packages\\pandas\\io\\parsers.py\u001b[0m in \u001b[0;36m__init__\u001b[1;34m(self, src, **kwds)\u001b[0m\n\u001b[0;32m   1889\u001b[0m         \u001b[0mkwds\u001b[0m\u001b[1;33m[\u001b[0m\u001b[1;34m\"usecols\"\u001b[0m\u001b[1;33m]\u001b[0m \u001b[1;33m=\u001b[0m \u001b[0mself\u001b[0m\u001b[1;33m.\u001b[0m\u001b[0musecols\u001b[0m\u001b[1;33m\u001b[0m\u001b[1;33m\u001b[0m\u001b[0m\n\u001b[0;32m   1890\u001b[0m \u001b[1;33m\u001b[0m\u001b[0m\n\u001b[1;32m-> 1891\u001b[1;33m         \u001b[0mself\u001b[0m\u001b[1;33m.\u001b[0m\u001b[0m_reader\u001b[0m \u001b[1;33m=\u001b[0m \u001b[0mparsers\u001b[0m\u001b[1;33m.\u001b[0m\u001b[0mTextReader\u001b[0m\u001b[1;33m(\u001b[0m\u001b[0msrc\u001b[0m\u001b[1;33m,\u001b[0m \u001b[1;33m**\u001b[0m\u001b[0mkwds\u001b[0m\u001b[1;33m)\u001b[0m\u001b[1;33m\u001b[0m\u001b[1;33m\u001b[0m\u001b[0m\n\u001b[0m\u001b[0;32m   1892\u001b[0m         \u001b[0mself\u001b[0m\u001b[1;33m.\u001b[0m\u001b[0munnamed_cols\u001b[0m \u001b[1;33m=\u001b[0m \u001b[0mself\u001b[0m\u001b[1;33m.\u001b[0m\u001b[0m_reader\u001b[0m\u001b[1;33m.\u001b[0m\u001b[0munnamed_cols\u001b[0m\u001b[1;33m\u001b[0m\u001b[1;33m\u001b[0m\u001b[0m\n\u001b[0;32m   1893\u001b[0m \u001b[1;33m\u001b[0m\u001b[0m\n",
      "\u001b[1;32mpandas\\_libs\\parsers.pyx\u001b[0m in \u001b[0;36mpandas._libs.parsers.TextReader.__cinit__\u001b[1;34m()\u001b[0m\n",
      "\u001b[1;32mpandas\\_libs\\parsers.pyx\u001b[0m in \u001b[0;36mpandas._libs.parsers.TextReader._setup_parser_source\u001b[1;34m()\u001b[0m\n",
      "\u001b[1;31mFileNotFoundError\u001b[0m: [Errno 2] File C:/Users/IT/Downloads/covid19-model/leading_cause_of_death/good_data/cdc/Deaths_in_122_U.S._cities_-_1962-2016._122_Cities_Mortality_Reporting_System.csv does not exist: 'C:/Users/IT/Downloads/covid19-model/leading_cause_of_death/good_data/cdc/Deaths_in_122_U.S._cities_-_1962-2016._122_Cities_Mortality_Reporting_System.csv'"
     ]
    }
   ],
   "source": [
    "#Cause of Death from CDC from 1962 to 2016\n",
    "cdc_cod_data = pd.read_csv('C:/Users/IT/Downloads/covid19-model/leading_cause_of_death/good_data/cdc/Deaths_in_122_U.S._cities_-_1962-2016._122_Cities_Mortality_Reporting_System.csv', na_filter= False)\n",
    "\n",
    "#Cause of Death from NCHS from 1999 to 2017\n",
    "nchs_cod_data = pd.read_csv('C:/Users/IT/Downloads/covid-analysis/leading_cause_of_death/good_data/nchs/NCHS_-_Leading_Causes_of_Death__United_States.csv', na_filter= False)\n",
    "\n",
    "#Cause of Death from CDC LCD WISQARS from 1999 to 2018\n",
    "cdc_wisqars_cod_data = pd.read_csv('C:/Users/IT/Downloads/covid-analysis/leading_cause_of_death/good_data/cdc/lcd-wisqars.csv', na_filter= False)\n",
    "\n",
    "#Time series USA COVID-19\n",
    "request_covid_USA = requests.get('https://covidtracking.com/api/v1/us/daily.json')\n",
    "covid_USA = request_covid_USA.json()"
   ]
  },
  {
   "cell_type": "markdown",
   "metadata": {},
   "source": [
    "### 2. Visualize Data as Scatterplots"
   ]
  },
  {
   "cell_type": "code",
   "execution_count": null,
   "metadata": {},
   "outputs": [],
   "source": [
    "#Dates and Deaths COVID-19 Cases\n",
    "Dates = []\n",
    "DeathCases = []\n",
    "for item in covid_USA:\n",
    "    Dates.append(item['date'])\n",
    "    DeathCases.append(item['death'])\n",
    "\n",
    "plt.rcParams[\"figure.figsize\"]=17,5\n",
    "plt.scatter(Dates, DeathCases)\n",
    "plt.xlabel('Date')\n",
    "plt.ylabel('Positive COVID-19 Cases')\n",
    "plt.title('Time Series: COVID-19 mortalities in USA')\n",
    "plt.show();"
   ]
  },
  {
   "cell_type": "code",
   "execution_count": null,
   "metadata": {},
   "outputs": [],
   "source": [
    "#Cause of death from CDC from 1962 to 2016 flu and pneumonia DEATHS 45-64 y/o\n",
    "CDC_cod_Dates= []\n",
    "Deaths_flu_and_pneum = []\n",
    "for item in cdc_cod_data['Year']:\n",
    "    if not item:\n",
    "        continue\n",
    "    else:\n",
    "        CDC_cod_Dates.append(item)\n",
    "for item in cdc_cod_data['Pneumonia and Influenza Deaths']:\n",
    "    if not item:\n",
    "        Deaths_flu_and_pneum.append(0)\n",
    "    else:\n",
    "        Deaths_flu_and_pneum.append(int(item))\n",
    "\n",
    "plt.figure(figsize=(20, 5))\n",
    "plt.scatter(CDC_cod_Dates, Deaths_flu_and_pneum)\n",
    "plt.xlabel('Year')\n",
    "plt.ylabel('Pneumonia and Influenza Deaths')\n",
    "plt.title('CDC Cause of Death from 1962 to 2016: Years vs Pneumonia and Influenza Deaths')\n",
    "plt.show();"
   ]
  },
  {
   "cell_type": "code",
   "execution_count": null,
   "metadata": {},
   "outputs": [],
   "source": [
    "#Cause of death from NCHS from 1999 to 2017\n",
    "NCHS_cod_Dates = []\n",
    "Deaths_nchs = []\n",
    "for item in nchs_cod_data['Year']:\n",
    "    if not item:\n",
    "        continue\n",
    "    else:\n",
    "        NCHS_cod_Dates.append(item)\n",
    "for item in nchs_cod_data['Deaths']:\n",
    "    if not item:\n",
    "        continue\n",
    "    else:\n",
    "        Deaths_nchs.append(item)\n",
    "\n",
    "fixed_nchs_dates = NCHS_cod_Dates.copy()\n",
    "fixed_nchs_deaths = Deaths_nchs.copy()\n",
    "fixed_nchs_dates.reverse()\n",
    "fixed_nchs_deaths.reverse()\n",
    "\n",
    "plt.figure(figsize=(20, 5))\n",
    "plt.scatter(NCHS_cod_Dates, Deaths_nchs)\n",
    "plt.xlabel('Year')\n",
    "plt.ylabel('Deaths from Pre-Existing Conditions')\n",
    "plt.title('NCHS Cause of Death from 1999 to 2017: All Deaths from Pre-existing Conditions')\n",
    "plt.show();"
   ]
  },
  {
   "cell_type": "code",
   "execution_count": null,
   "metadata": {},
   "outputs": [],
   "source": [
    "#Cause of death from CDC LCD WISQARS from 1999 to 2018\n",
    "cdc_wisqars_ages = []\n",
    "cdc_wisqars_deaths = []\n",
    "for item in cdc_wisqars_cod_data['Age Group']:\n",
    "    if not item:\n",
    "        continue\n",
    "    else:\n",
    "        cdc_wisqars_ages.append(item)\n",
    "for item in cdc_wisqars_cod_data['Deaths']:\n",
    "    if not item:\n",
    "        continue\n",
    "    else:\n",
    "        cdc_wisqars_deaths.append(item)\n",
    "\n",
    "plt.figure(figsize=(20, 5))\n",
    "plt.scatter(cdc_wisqars_ages, cdc_wisqars_deaths)\n",
    "plt.xlabel('Age Groups')\n",
    "plt.ylabel('Deaths from Pre-Existing Conditions')\n",
    "plt.title('CDC WISQARS Cause of Death from 1999 to 2018: All Deaths from Pre-existing Conditions')\n",
    "plt.show();"
   ]
  },
  {
   "cell_type": "code",
   "execution_count": null,
   "metadata": {},
   "outputs": [],
   "source": [
    "mydb = mysql.connector.connect(\n",
    "  user=\"wcadmin\",\n",
    "  host=\"mysql-code2020-db1.cngsuwoginmf.us-east-1.rds.amazonaws.com\",\n",
    "  passwd=\"Mycaresec1\",\n",
    "  database='wcadb1'\n",
    ")\n",
    "\n",
    "#Set a cursor for querying\n",
    "cursor = mydb.cursor()\n",
    "\n",
    "#Use a list of conditions and risks to match against the client patient\n",
    "conditions_risks = [\"Diabetes\", \"Congestive Heart Failure\", \"Asthma\", \"COPD\", \"Heart Disease\", \"Cancer\", \"Smoke\", \"HIV\", \"Breathing Difficulty\"]\n",
    "\n",
    "#Fetch ClientIDs\n",
    "\n",
    "query = (\n",
    "    \"SELECT ClientID FROM ClientPatient\"\n",
    ")\n",
    "\n",
    "cursor.execute(query)\n",
    "results = list(cursor.fetchall())\n",
    "result_conv = str(results)\n",
    "import re\n",
    "result_conv_cleaned = re.findall(r\"\\d+\", result_conv)\n",
    "client_ids = result_conv_cleaned\n",
    "#print(client_ids)\n",
    "\n",
    "risk_ids = []\n",
    "risk_scores = []\n",
    "for client_id in client_ids:\n",
    "    #Use ClientID to find pre-existing conditions and risks\n",
    "    query_pre_existing = (\n",
    "        \"\"\"SELECT MedHistory, MedHistory2, DxAllergyReact FROM ClientMedicalHistory \n",
    "           WHERE ClientID = '\"\"\"+client_id+\"\"\"' \n",
    "                 AND PharmacyCard_MI != 'Test' AND PharmacyCard_MI != 'Test1' AND PharmacyCard_FN != ''\n",
    "                 AND PharmacyCard_MI != ''\"\"\"\n",
    "    )\n",
    "    cursor.execute(query_pre_existing)\n",
    "    results_pre_existing = cursor.fetchall()\n",
    "    results_pre_existing_conv = str(results_pre_existing)\n",
    "    #print(results_pre_existing_conv)\n",
    "\n",
    "    #Split the dirty string of collected pre-existing conditions and risks from client patient\n",
    "    results_pre_existing_list_dirty = results_pre_existing_conv.split('|')\n",
    "    #print(results_pre_existing_list_dirty)\n",
    "\n",
    "    #Clean the dirty string of pre-existing conditions and risks\n",
    "    results_pre_existing_list_cleaned = []\n",
    "    for condition in results_pre_existing_list_dirty:\n",
    "        if any(risk in condition for risk in conditions_risks):\n",
    "            results_pre_existing_list_cleaned.append(condition)\n",
    "    #print(results_pre_existing_list_cleaned)\n",
    "\n",
    "    #Calculate raw risk score\n",
    "    risk_score = len(results_pre_existing_list_cleaned)/len(conditions_risks)\n",
    "    #print(risk_score)\n",
    "    \n",
    "    risk_scores.append(risk_score)\n",
    "#print(risk_scores)\n",
    "\n",
    "plt.rcParams[\"figure.figsize\"]=17,5\n",
    "plt.scatter(client_ids, risk_scores)\n",
    "plt.xlabel('Clients')\n",
    "plt.ylabel('Risk Scores')\n",
    "plt.title('Clients and their Risk Scores')\n",
    "plt.show();\n",
    "\n",
    "#Close DB connection\n",
    "cursor.close()\n",
    "mydb.close()"
   ]
  },
  {
   "cell_type": "code",
   "execution_count": null,
   "metadata": {},
   "outputs": [],
   "source": [
    "display(HTML('<h2>More Info on COVID-19:<a href=\"#More-Info-on-COVID-19:\"></h2>'\n",
    "'<ul>'\n",
    "             '<li><a href=\"https://www.who.int/health-topics/coronavirus\">https://www.who.int/health-topics/coronavirus</a></li>'\n",
    "             '<li><a href=\"https://www.who.int/emergencies/diseases/novel-coronavirus-2019\">https://www.who.int/emergencies/diseases/novel-coronavirus-2019</a></li>'\n",
    "             '<li><a href=\"https://www.nature.com/articles/s41597-020-0448-0\">https://www.nature.com/articles/s41597-020-0448-0</a></li>'\n",
    "'</ul>'));"
   ]
  },
  {
   "cell_type": "code",
   "execution_count": null,
   "metadata": {},
   "outputs": [],
   "source": []
  }
 ],
 "metadata": {
  "kernelspec": {
   "display_name": "Python 3",
   "language": "python",
   "name": "python3"
  },
  "language_info": {
   "codemirror_mode": {
    "name": "ipython",
    "version": 3
   },
   "file_extension": ".py",
   "mimetype": "text/x-python",
   "name": "python",
   "nbconvert_exporter": "python",
   "pygments_lexer": "ipython3",
   "version": "3.7.6"
  }
 },
 "nbformat": 4,
 "nbformat_minor": 2
}
