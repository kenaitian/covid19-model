{
 "cells": [
  {
   "cell_type": "markdown",
   "metadata": {},
   "source": [
    "## 1. From epidemic to pandemic\n",
    "<p><img style=\"float: left; margin:5px 20px 5px 1px; width:40%\" src=\"https://www.nps.gov/aboutus/news/images/CDC-coronavirus-image-23311-for-web.jpg?maxwidth=650&autorotate=false\"></p>\n",
    "<p>In December 2019, COVID-19 coronavirus was first identified in the Wuhan region of China. By March 11, 2020, the World Health Organization (WHO) categorized the COVID-19 outbreak as a pandemic. A lot has happened in the months in between with major outbreaks in Iran, South Korea, and Italy. </p>\n",
    "<p>We know that COVID-19 spreads through respiratory droplets, such as through coughing, sneezing, or speaking. But, how quickly did the virus spread across the globe? And, can we see any effect from country-wide policies, like shutdowns and quarantines? </p>\n",
    "<p>Fortunately, organizations around the world have been collecting data so that governments can monitor and learn from this pandemic. Notably, the Johns Hopkins University Center for Systems Science and Engineering created a <a href=\"https://github.com/RamiKrispin/coronavirus\">publicly available data repository</a> to consolidate this data from sources like the WHO, the Centers for Disease Control and Prevention (CDC), and the Ministry of Health from multiple countries.</p>\n",
    "<p>In this notebook, you will visualize COVID-19 data from the first several weeks of the outbreak to see at what point this virus became a global pandemic.</p>\n",
    "<p><em>Please note that information and data regarding COVID-19 is frequently being updated. The data used in this project was pulled on March 17, 2020, and should not be considered to be the most up to date data available.</em></p>"
   ]
  },
  {
   "cell_type": "code",
   "execution_count": 1,
   "metadata": {},
   "outputs": [],
   "source": [
    "### pip(optionally) or conda-forge/packages installation on local machine and/or on the cloud (i.e., IBM Watson) \n",
    "## A Jupyter notebook extension to hide code and prompts - https://pypi.org/project/hide-code/0.2.0/\n",
    "## File type identification using libmagic\n",
    "# !pip install python-magic==0.4.18\n",
    "## Easily download, build, install, upgrade, and uninstall Python packages\n",
    "# !pip install setuptools==46.3.1\n",
    "## A built-package format for Python\n",
    "# !pip install wheel\n",
    "# !pip install pixiedust==1.1.18\n",
    "# !pip install --user --upgrade pixiedust\n",
    "# !pip install rosie==1.1.4\n",
    "# !pip install pixiedust_rosie\n",
    "# !pip install hide-code==0.5.5\n",
    "## for formatting purposes.\n",
    "# !conda update nbformat\n",
    "## Generic syntax highlighter suitable for use in code hosting, forums, wikis or other applications that need to prettify source code\n",
    "# !conda install -c anaconda pygments \n",
    "## provides a command line tool to convert Jupyter notebook files to HTML files - https://www.nbinteract.com/\n",
    "# !pip install nbinteract\n",
    "## An interactive, browser-based graphing library for Python\n",
    "# !conda install -c conda-forge plotly\n",
    "## Jupyter Interactive Widgets\n",
    "# !conda install -c conda-forge ipywidgets\n",
    "## Make beautiful maps with Leaflet.js and Python\n",
    "# !conda install -c conda-forge folium\n",
    "## A Jupyter extensions that turns notebooks into web applications. - https://github.com/oschuett/appmode\n",
    "# !pip install appmode\n",
    "## Rendering of live Jupyter notebooks with interactive widgets - https://anaconda.org/conda-forge/voila\n",
    "# !conda install -c conda-forge voila\n",
    "## Gridstack template for voila - https://anaconda.org/conda-forge/voila-gridstack\n",
    "# !conda install -c conda-forge voila-gridstack\n",
    "## Vuetify specific template for Voila - https://anaconda.org/conda-forge/voila-vuetify\n",
    "# !conda install -c conda-forge voila-vuetify\n",
    "## Reveal template for voila - https://anaconda.org/conda-forge/voila-reveal\n",
    "# !conda install -c conda-forge voila-reveal\n",
    "## Material template for Voila - https://anaconda.org/conda-forge/voila-material\n",
    "# !conda install -c conda-forge voila-material\n",
    "## A collection of various different notebook extensions for Jupyter - https://anaconda.org/conda-forge/jupyter_contrib_nbextensions\n",
    "# !conda install -c conda-forge jupyter_contrib_nbextensions\n",
    "# !easy_install ibm_db\n",
    "# !pip install ibm-db==3.0.1\n",
    "# !pip install ijson\n",
    "# A python native weaviate client makes using the Weaviate API easier.\n",
    "# !pip install weaviate-client"
   ]
  },
  {
   "cell_type": "code",
   "execution_count": 2,
   "metadata": {},
   "outputs": [
    {
     "name": "stdout",
     "output_type": "stream",
     "text": [
      "Pixiedust database opened successfully\n"
     ]
    },
    {
     "data": {
      "text/html": [
       "\n",
       "        <div style=\"margin:10px\">\n",
       "            <a href=\"https://github.com/ibm-watson-data-lab/pixiedust\" target=\"_new\">\n",
       "                <img src=\"https://github.com/ibm-watson-data-lab/pixiedust/raw/master/docs/_static/pd_icon32.png\" style=\"float:left;margin-right:10px\"/>\n",
       "            </a>\n",
       "            <span>Pixiedust version 1.1.18</span>\n",
       "        </div>\n",
       "        "
      ],
      "text/plain": [
       "<IPython.core.display.HTML object>"
      ]
     },
     "metadata": {},
     "output_type": "display_data"
    }
   ],
   "source": [
    "# @hidden_cell\n",
    "# import packages\n",
    "from __future__ import print_function\n",
    "import ibm_db\n",
    "import ibm_db_dbi\n",
    "import pandas as pd\n",
    "import numpy as np\n",
    "\n",
    "from ipywidgets import interact, interactive, fixed, interact_manual\n",
    "import ipywidgets as widgets\n",
    "\n",
    "from IPython.core.display import display, HTML\n",
    "\n",
    "import pixiedust\n",
    "# london_info = pixiedust.sampleData(\"https://files.datapress.com/\n",
    "# london/dataset/london-borough-profiles/2015-09-24T15:50:01/Londonborough-\n",
    "# profiles.zip\")\n",
    "import pixiedust_rosie\n",
    "# pixiedust_rosie.wrangle_data()\n",
    "\n",
    "# https://www.pluralsight.com/guides/web-scraping-with-request-python\n",
    "import requests as reqs # To use request package with alliance(s) in current program \n",
    "from requests.exceptions import HTTPError\n",
    "\n",
    "# import ijson\n",
    "import json\n",
    "import time\n",
    "\n",
    "import weaviate"
   ]
  },
  {
   "cell_type": "code",
   "execution_count": 3,
   "metadata": {},
   "outputs": [
    {
     "name": "stdout",
     "output_type": "stream",
     "text": [
      "Downloading 'https://raw.githubusercontent.com/CSSEGISandData/COVID-19/master/csse_covid_19_data/csse_covid_19_time_series/time_series_covid19_confirmed_global.csv' from https://raw.githubusercontent.com/CSSEGISandData/COVID-19/master/csse_covid_19_data/csse_covid_19_time_series/time_series_covid19_confirmed_global.csv\n",
      "Downloaded 169274 bytes\n",
      "Creating pandas DataFrame for 'https://raw.githubusercontent.com/CSSEGISandData/COVID-19/master/csse_covid_19_data/csse_covid_19_time_series/time_series_covid19_confirmed_global.csv'. Please wait...\n",
      "Successfully created pandas DataFrame for 'https://raw.githubusercontent.com/CSSEGISandData/COVID-19/master/csse_covid_19_data/csse_covid_19_time_series/time_series_covid19_confirmed_global.csv'\n"
     ]
    },
    {
     "ename": "RuntimeError",
     "evalue": "Cannot find librosie in local directory or system installation",
     "output_type": "error",
     "traceback": [
      "\u001b[1;31m---------------------------------------------------------------------------\u001b[0m",
      "\u001b[1;31mOSError\u001b[0m                                   Traceback (most recent call last)",
      "\u001b[1;32m~\\anaconda3\\lib\\site-packages\\rosie\\internal.py\u001b[0m in \u001b[0;36mload\u001b[1;34m(path, quiet)\u001b[0m\n\u001b[0;32m    143\u001b[0m         \u001b[1;32mtry\u001b[0m\u001b[1;33m:\u001b[0m\u001b[1;33m\u001b[0m\u001b[1;33m\u001b[0m\u001b[0m\n\u001b[1;32m--> 144\u001b[1;33m             \u001b[0m_load_from\u001b[0m\u001b[1;33m(\u001b[0m\u001b[1;34m'//'\u001b[0m\u001b[1;33m)\u001b[0m   \u001b[1;31m# local\u001b[0m\u001b[1;33m\u001b[0m\u001b[1;33m\u001b[0m\u001b[0m\n\u001b[0m\u001b[0;32m    145\u001b[0m         \u001b[1;32mexcept\u001b[0m \u001b[0mOSError\u001b[0m\u001b[1;33m:\u001b[0m\u001b[1;33m\u001b[0m\u001b[1;33m\u001b[0m\u001b[0m\n",
      "\u001b[1;32m~\\anaconda3\\lib\\site-packages\\rosie\\internal.py\u001b[0m in \u001b[0;36m_load_from\u001b[1;34m(path_string)\u001b[0m\n\u001b[0;32m    180\u001b[0m         \u001b[0mlibpath\u001b[0m \u001b[1;33m=\u001b[0m \u001b[0mos\u001b[0m\u001b[1;33m.\u001b[0m\u001b[0mpath\u001b[0m\u001b[1;33m.\u001b[0m\u001b[0mjoin\u001b[0m\u001b[1;33m(\u001b[0m\u001b[0mpath_string\u001b[0m\u001b[1;33m,\u001b[0m \u001b[0m_librosie_name\u001b[0m\u001b[1;33m)\u001b[0m\u001b[1;33m\u001b[0m\u001b[1;33m\u001b[0m\u001b[0m\n\u001b[1;32m--> 181\u001b[1;33m     \u001b[0m_lib\u001b[0m \u001b[1;33m=\u001b[0m \u001b[0mffi\u001b[0m\u001b[1;33m.\u001b[0m\u001b[0mdlopen\u001b[0m\u001b[1;33m(\u001b[0m\u001b[0mlibpath\u001b[0m\u001b[1;33m,\u001b[0m \u001b[0mffi\u001b[0m\u001b[1;33m.\u001b[0m\u001b[0mRTLD_LAZY\u001b[0m \u001b[1;33m|\u001b[0m \u001b[0mffi\u001b[0m\u001b[1;33m.\u001b[0m\u001b[0mRTLD_GLOBAL\u001b[0m\u001b[1;33m)\u001b[0m\u001b[1;33m\u001b[0m\u001b[1;33m\u001b[0m\u001b[0m\n\u001b[0m\u001b[0;32m    182\u001b[0m     \u001b[0m_librosie_path\u001b[0m \u001b[1;33m=\u001b[0m \u001b[0mlibpath\u001b[0m\u001b[1;33m\u001b[0m\u001b[1;33m\u001b[0m\u001b[0m\n",
      "\u001b[1;32m~\\anaconda3\\lib\\site-packages\\cffi\\api.py\u001b[0m in \u001b[0;36mdlopen\u001b[1;34m(self, name, flags)\u001b[0m\n\u001b[0;32m    149\u001b[0m         \u001b[1;32mwith\u001b[0m \u001b[0mself\u001b[0m\u001b[1;33m.\u001b[0m\u001b[0m_lock\u001b[0m\u001b[1;33m:\u001b[0m\u001b[1;33m\u001b[0m\u001b[1;33m\u001b[0m\u001b[0m\n\u001b[1;32m--> 150\u001b[1;33m             \u001b[0mlib\u001b[0m\u001b[1;33m,\u001b[0m \u001b[0mfunction_cache\u001b[0m \u001b[1;33m=\u001b[0m \u001b[0m_make_ffi_library\u001b[0m\u001b[1;33m(\u001b[0m\u001b[0mself\u001b[0m\u001b[1;33m,\u001b[0m \u001b[0mname\u001b[0m\u001b[1;33m,\u001b[0m \u001b[0mflags\u001b[0m\u001b[1;33m)\u001b[0m\u001b[1;33m\u001b[0m\u001b[1;33m\u001b[0m\u001b[0m\n\u001b[0m\u001b[0;32m    151\u001b[0m             \u001b[0mself\u001b[0m\u001b[1;33m.\u001b[0m\u001b[0m_function_caches\u001b[0m\u001b[1;33m.\u001b[0m\u001b[0mappend\u001b[0m\u001b[1;33m(\u001b[0m\u001b[0mfunction_cache\u001b[0m\u001b[1;33m)\u001b[0m\u001b[1;33m\u001b[0m\u001b[1;33m\u001b[0m\u001b[0m\n",
      "\u001b[1;32m~\\anaconda3\\lib\\site-packages\\cffi\\api.py\u001b[0m in \u001b[0;36m_make_ffi_library\u001b[1;34m(ffi, libname, flags)\u001b[0m\n\u001b[0;32m    831\u001b[0m     \u001b[0mbackend\u001b[0m \u001b[1;33m=\u001b[0m \u001b[0mffi\u001b[0m\u001b[1;33m.\u001b[0m\u001b[0m_backend\u001b[0m\u001b[1;33m\u001b[0m\u001b[1;33m\u001b[0m\u001b[0m\n\u001b[1;32m--> 832\u001b[1;33m     \u001b[0mbackendlib\u001b[0m \u001b[1;33m=\u001b[0m \u001b[0m_load_backend_lib\u001b[0m\u001b[1;33m(\u001b[0m\u001b[0mbackend\u001b[0m\u001b[1;33m,\u001b[0m \u001b[0mlibname\u001b[0m\u001b[1;33m,\u001b[0m \u001b[0mflags\u001b[0m\u001b[1;33m)\u001b[0m\u001b[1;33m\u001b[0m\u001b[1;33m\u001b[0m\u001b[0m\n\u001b[0m\u001b[0;32m    833\u001b[0m     \u001b[1;31m#\u001b[0m\u001b[1;33m\u001b[0m\u001b[1;33m\u001b[0m\u001b[1;33m\u001b[0m\u001b[0m\n",
      "\u001b[1;32m~\\anaconda3\\lib\\site-packages\\cffi\\api.py\u001b[0m in \u001b[0;36m_load_backend_lib\u001b[1;34m(backend, name, flags)\u001b[0m\n\u001b[0;32m    826\u001b[0m             \u001b[0mmsg\u001b[0m \u001b[1;33m=\u001b[0m \u001b[1;34m\"%s.  Additionally, %s\"\u001b[0m \u001b[1;33m%\u001b[0m \u001b[1;33m(\u001b[0m\u001b[0mfirst_error\u001b[0m\u001b[1;33m,\u001b[0m \u001b[0mmsg\u001b[0m\u001b[1;33m)\u001b[0m\u001b[1;33m\u001b[0m\u001b[1;33m\u001b[0m\u001b[0m\n\u001b[1;32m--> 827\u001b[1;33m         \u001b[1;32mraise\u001b[0m \u001b[0mOSError\u001b[0m\u001b[1;33m(\u001b[0m\u001b[0mmsg\u001b[0m\u001b[1;33m)\u001b[0m\u001b[1;33m\u001b[0m\u001b[1;33m\u001b[0m\u001b[0m\n\u001b[0m\u001b[0;32m    828\u001b[0m     \u001b[1;32mreturn\u001b[0m \u001b[0mbackend\u001b[0m\u001b[1;33m.\u001b[0m\u001b[0mload_library\u001b[0m\u001b[1;33m(\u001b[0m\u001b[0mpath\u001b[0m\u001b[1;33m,\u001b[0m \u001b[0mflags\u001b[0m\u001b[1;33m)\u001b[0m\u001b[1;33m\u001b[0m\u001b[1;33m\u001b[0m\u001b[0m\n",
      "\u001b[1;31mOSError\u001b[0m: cannot load library 'C:\\Users\\IT\\anaconda3\\lib\\site-packages\\rosie\\librosie.so': error 0x7e.  Additionally, ctypes.util.find_library() did not manage to locate a library called 'C:\\\\Users\\\\IT\\\\anaconda3\\\\lib\\\\site-packages\\\\rosie\\\\librosie.so'",
      "\nDuring handling of the above exception, another exception occurred:\n",
      "\u001b[1;31mOSError\u001b[0m                                   Traceback (most recent call last)",
      "\u001b[1;32m~\\anaconda3\\lib\\site-packages\\rosie\\internal.py\u001b[0m in \u001b[0;36mload\u001b[1;34m(path, quiet)\u001b[0m\n\u001b[0;32m    146\u001b[0m             \u001b[1;32mtry\u001b[0m\u001b[1;33m:\u001b[0m\u001b[1;33m\u001b[0m\u001b[1;33m\u001b[0m\u001b[0m\n\u001b[1;32m--> 147\u001b[1;33m                 \u001b[0m_load_from\u001b[0m\u001b[1;33m(\u001b[0m\u001b[1;34m''\u001b[0m\u001b[1;33m)\u001b[0m     \u001b[1;31m# system\u001b[0m\u001b[1;33m\u001b[0m\u001b[1;33m\u001b[0m\u001b[0m\n\u001b[0m\u001b[0;32m    148\u001b[0m             \u001b[1;32mexcept\u001b[0m \u001b[0mOSError\u001b[0m\u001b[1;33m:\u001b[0m\u001b[1;33m\u001b[0m\u001b[1;33m\u001b[0m\u001b[0m\n",
      "\u001b[1;32m~\\anaconda3\\lib\\site-packages\\rosie\\internal.py\u001b[0m in \u001b[0;36m_load_from\u001b[1;34m(path_string)\u001b[0m\n\u001b[0;32m    180\u001b[0m         \u001b[0mlibpath\u001b[0m \u001b[1;33m=\u001b[0m \u001b[0mos\u001b[0m\u001b[1;33m.\u001b[0m\u001b[0mpath\u001b[0m\u001b[1;33m.\u001b[0m\u001b[0mjoin\u001b[0m\u001b[1;33m(\u001b[0m\u001b[0mpath_string\u001b[0m\u001b[1;33m,\u001b[0m \u001b[0m_librosie_name\u001b[0m\u001b[1;33m)\u001b[0m\u001b[1;33m\u001b[0m\u001b[1;33m\u001b[0m\u001b[0m\n\u001b[1;32m--> 181\u001b[1;33m     \u001b[0m_lib\u001b[0m \u001b[1;33m=\u001b[0m \u001b[0mffi\u001b[0m\u001b[1;33m.\u001b[0m\u001b[0mdlopen\u001b[0m\u001b[1;33m(\u001b[0m\u001b[0mlibpath\u001b[0m\u001b[1;33m,\u001b[0m \u001b[0mffi\u001b[0m\u001b[1;33m.\u001b[0m\u001b[0mRTLD_LAZY\u001b[0m \u001b[1;33m|\u001b[0m \u001b[0mffi\u001b[0m\u001b[1;33m.\u001b[0m\u001b[0mRTLD_GLOBAL\u001b[0m\u001b[1;33m)\u001b[0m\u001b[1;33m\u001b[0m\u001b[1;33m\u001b[0m\u001b[0m\n\u001b[0m\u001b[0;32m    182\u001b[0m     \u001b[0m_librosie_path\u001b[0m \u001b[1;33m=\u001b[0m \u001b[0mlibpath\u001b[0m\u001b[1;33m\u001b[0m\u001b[1;33m\u001b[0m\u001b[0m\n",
      "\u001b[1;32m~\\anaconda3\\lib\\site-packages\\cffi\\api.py\u001b[0m in \u001b[0;36mdlopen\u001b[1;34m(self, name, flags)\u001b[0m\n\u001b[0;32m    149\u001b[0m         \u001b[1;32mwith\u001b[0m \u001b[0mself\u001b[0m\u001b[1;33m.\u001b[0m\u001b[0m_lock\u001b[0m\u001b[1;33m:\u001b[0m\u001b[1;33m\u001b[0m\u001b[1;33m\u001b[0m\u001b[0m\n\u001b[1;32m--> 150\u001b[1;33m             \u001b[0mlib\u001b[0m\u001b[1;33m,\u001b[0m \u001b[0mfunction_cache\u001b[0m \u001b[1;33m=\u001b[0m \u001b[0m_make_ffi_library\u001b[0m\u001b[1;33m(\u001b[0m\u001b[0mself\u001b[0m\u001b[1;33m,\u001b[0m \u001b[0mname\u001b[0m\u001b[1;33m,\u001b[0m \u001b[0mflags\u001b[0m\u001b[1;33m)\u001b[0m\u001b[1;33m\u001b[0m\u001b[1;33m\u001b[0m\u001b[0m\n\u001b[0m\u001b[0;32m    151\u001b[0m             \u001b[0mself\u001b[0m\u001b[1;33m.\u001b[0m\u001b[0m_function_caches\u001b[0m\u001b[1;33m.\u001b[0m\u001b[0mappend\u001b[0m\u001b[1;33m(\u001b[0m\u001b[0mfunction_cache\u001b[0m\u001b[1;33m)\u001b[0m\u001b[1;33m\u001b[0m\u001b[1;33m\u001b[0m\u001b[0m\n",
      "\u001b[1;32m~\\anaconda3\\lib\\site-packages\\cffi\\api.py\u001b[0m in \u001b[0;36m_make_ffi_library\u001b[1;34m(ffi, libname, flags)\u001b[0m\n\u001b[0;32m    831\u001b[0m     \u001b[0mbackend\u001b[0m \u001b[1;33m=\u001b[0m \u001b[0mffi\u001b[0m\u001b[1;33m.\u001b[0m\u001b[0m_backend\u001b[0m\u001b[1;33m\u001b[0m\u001b[1;33m\u001b[0m\u001b[0m\n\u001b[1;32m--> 832\u001b[1;33m     \u001b[0mbackendlib\u001b[0m \u001b[1;33m=\u001b[0m \u001b[0m_load_backend_lib\u001b[0m\u001b[1;33m(\u001b[0m\u001b[0mbackend\u001b[0m\u001b[1;33m,\u001b[0m \u001b[0mlibname\u001b[0m\u001b[1;33m,\u001b[0m \u001b[0mflags\u001b[0m\u001b[1;33m)\u001b[0m\u001b[1;33m\u001b[0m\u001b[1;33m\u001b[0m\u001b[0m\n\u001b[0m\u001b[0;32m    833\u001b[0m     \u001b[1;31m#\u001b[0m\u001b[1;33m\u001b[0m\u001b[1;33m\u001b[0m\u001b[1;33m\u001b[0m\u001b[0m\n",
      "\u001b[1;32m~\\anaconda3\\lib\\site-packages\\cffi\\api.py\u001b[0m in \u001b[0;36m_load_backend_lib\u001b[1;34m(backend, name, flags)\u001b[0m\n\u001b[0;32m    826\u001b[0m             \u001b[0mmsg\u001b[0m \u001b[1;33m=\u001b[0m \u001b[1;34m\"%s.  Additionally, %s\"\u001b[0m \u001b[1;33m%\u001b[0m \u001b[1;33m(\u001b[0m\u001b[0mfirst_error\u001b[0m\u001b[1;33m,\u001b[0m \u001b[0mmsg\u001b[0m\u001b[1;33m)\u001b[0m\u001b[1;33m\u001b[0m\u001b[1;33m\u001b[0m\u001b[0m\n\u001b[1;32m--> 827\u001b[1;33m         \u001b[1;32mraise\u001b[0m \u001b[0mOSError\u001b[0m\u001b[1;33m(\u001b[0m\u001b[0mmsg\u001b[0m\u001b[1;33m)\u001b[0m\u001b[1;33m\u001b[0m\u001b[1;33m\u001b[0m\u001b[0m\n\u001b[0m\u001b[0;32m    828\u001b[0m     \u001b[1;32mreturn\u001b[0m \u001b[0mbackend\u001b[0m\u001b[1;33m.\u001b[0m\u001b[0mload_library\u001b[0m\u001b[1;33m(\u001b[0m\u001b[0mpath\u001b[0m\u001b[1;33m,\u001b[0m \u001b[0mflags\u001b[0m\u001b[1;33m)\u001b[0m\u001b[1;33m\u001b[0m\u001b[1;33m\u001b[0m\u001b[0m\n",
      "\u001b[1;31mOSError\u001b[0m: cannot load library 'librosie.so': error 0x7e.  Additionally, ctypes.util.find_library() did not manage to locate a library called 'librosie.so'",
      "\nDuring handling of the above exception, another exception occurred:\n",
      "\u001b[1;31mRuntimeError\u001b[0m                              Traceback (most recent call last)",
      "\u001b[1;32m<ipython-input-3-8a3b1f314e6e>\u001b[0m in \u001b[0;36m<module>\u001b[1;34m\u001b[0m\n\u001b[0;32m      2\u001b[0m \u001b[1;31m# url = \"https://github.com/ibm-watson-data-lab/pixiedust_rosie/raw/master/sample-data/Healthcare_Cost_and_Utilization_Project__HCUP__-_National_Inpatient_Sample.csv\"\u001b[0m\u001b[1;33m\u001b[0m\u001b[1;33m\u001b[0m\u001b[1;33m\u001b[0m\u001b[0m\n\u001b[0;32m      3\u001b[0m \u001b[0murl\u001b[0m \u001b[1;33m=\u001b[0m \u001b[1;34m\"https://raw.githubusercontent.com/CSSEGISandData/COVID-19/master/csse_covid_19_data/csse_covid_19_time_series/time_series_covid19_confirmed_global.csv\"\u001b[0m\u001b[1;33m\u001b[0m\u001b[1;33m\u001b[0m\u001b[0m\n\u001b[1;32m----> 4\u001b[1;33m \u001b[0mpixiedust_rosie\u001b[0m\u001b[1;33m.\u001b[0m\u001b[0mwrangle_data\u001b[0m\u001b[1;33m(\u001b[0m\u001b[0murl\u001b[0m\u001b[1;33m)\u001b[0m\u001b[1;33m\u001b[0m\u001b[1;33m\u001b[0m\u001b[0m\n\u001b[0m",
      "\u001b[1;32m~\\anaconda3\\lib\\site-packages\\pixiedust_rosie\\__init__.py\u001b[0m in \u001b[0;36mwrangle_data\u001b[1;34m(url)\u001b[0m\n\u001b[0;32m     38\u001b[0m             \u001b[1;34m\"displayName\"\u001b[0m\u001b[1;33m:\u001b[0m \u001b[0murl\u001b[0m\u001b[1;33m,\u001b[0m\u001b[1;33m\u001b[0m\u001b[1;33m\u001b[0m\u001b[0m\n\u001b[0;32m     39\u001b[0m             \u001b[1;34m\"url\"\u001b[0m\u001b[1;33m:\u001b[0m \u001b[0murl\u001b[0m\u001b[1;33m\u001b[0m\u001b[1;33m\u001b[0m\u001b[0m\n\u001b[1;32m---> 40\u001b[1;33m }, True).download( data_loader )\n\u001b[0m",
      "\u001b[1;32m~\\anaconda3\\lib\\site-packages\\pixiedust\\utils\\sampleData.py\u001b[0m in \u001b[0;36mdownload\u001b[1;34m(self, dataLoader)\u001b[0m\n\u001b[0;32m    272\u001b[0m                 print(\"Creating {1} DataFrame for '{0}'. Please wait...\".\\\n\u001b[0;32m    273\u001b[0m                     format(displayName, 'pySpark' if Environment.hasSpark and not self.forcePandas else 'pandas'))\n\u001b[1;32m--> 274\u001b[1;33m                 \u001b[1;32mreturn\u001b[0m \u001b[0mdataLoader\u001b[0m\u001b[1;33m(\u001b[0m\u001b[0mpath\u001b[0m\u001b[1;33m,\u001b[0m \u001b[0mself\u001b[0m\u001b[1;33m.\u001b[0m\u001b[0mdataDef\u001b[0m\u001b[1;33m.\u001b[0m\u001b[0mget\u001b[0m\u001b[1;33m(\u001b[0m\u001b[1;34m\"schema\"\u001b[0m\u001b[1;33m,\u001b[0m \u001b[1;32mNone\u001b[0m\u001b[1;33m)\u001b[0m\u001b[1;33m)\u001b[0m\u001b[1;33m\u001b[0m\u001b[1;33m\u001b[0m\u001b[0m\n\u001b[0m\u001b[0;32m    275\u001b[0m             \u001b[1;32mfinally\u001b[0m\u001b[1;33m:\u001b[0m\u001b[1;33m\u001b[0m\u001b[1;33m\u001b[0m\u001b[0m\n\u001b[0;32m    276\u001b[0m                 print(\"Successfully created {1} DataFrame for '{0}'\".\\\n",
      "\u001b[1;32m~\\anaconda3\\lib\\site-packages\\pixiedust_rosie\\__init__.py\u001b[0m in \u001b[0;36mdata_loader\u001b[1;34m(path, schema)\u001b[0m\n\u001b[0;32m     30\u001b[0m     \u001b[1;32mdef\u001b[0m \u001b[0mdata_loader\u001b[0m\u001b[1;33m(\u001b[0m\u001b[0mpath\u001b[0m\u001b[1;33m,\u001b[0m \u001b[0mschema\u001b[0m\u001b[1;33m)\u001b[0m\u001b[1;33m:\u001b[0m\u001b[1;33m\u001b[0m\u001b[1;33m\u001b[0m\u001b[0m\n\u001b[0;32m     31\u001b[0m         \u001b[1;34m\"\"\"Invoke the PixieRosieApp with the path to the local file\"\"\"\u001b[0m\u001b[1;33m\u001b[0m\u001b[1;33m\u001b[0m\u001b[0m\n\u001b[1;32m---> 32\u001b[1;33m         \u001b[0mPixieRosieApp\u001b[0m\u001b[1;33m(\u001b[0m\u001b[1;33m)\u001b[0m\u001b[1;33m.\u001b[0m\u001b[0mrun\u001b[0m\u001b[1;33m(\u001b[0m\u001b[0mpath\u001b[0m\u001b[1;33m)\u001b[0m\u001b[1;33m\u001b[0m\u001b[1;33m\u001b[0m\u001b[0m\n\u001b[0m\u001b[0;32m     33\u001b[0m \u001b[1;33m\u001b[0m\u001b[0m\n\u001b[0;32m     34\u001b[0m     \u001b[1;32mif\u001b[0m \u001b[0mstr\u001b[0m\u001b[1;33m(\u001b[0m\u001b[0murl\u001b[0m\u001b[1;33m)\u001b[0m \u001b[1;32min\u001b[0m \u001b[0mdataDefs\u001b[0m\u001b[1;33m:\u001b[0m\u001b[1;33m\u001b[0m\u001b[1;33m\u001b[0m\u001b[0m\n",
      "\u001b[1;32m~\\anaconda3\\lib\\site-packages\\pixiedust\\display\\app\\pixieapp.py\u001b[0m in \u001b[0;36mrun\u001b[1;34m(self, entity, **kwargs)\u001b[0m\n\u001b[0;32m    440\u001b[0m \u001b[1;33m\u001b[0m\u001b[0m\n\u001b[0;32m    441\u001b[0m         \u001b[1;32mif\u001b[0m \u001b[1;32mnot\u001b[0m \u001b[0mhasattr\u001b[0m\u001b[1;33m(\u001b[0m\u001b[0mself\u001b[0m\u001b[1;33m,\u001b[0m \u001b[1;34m\"pd_initialized\"\u001b[0m\u001b[1;33m)\u001b[0m\u001b[1;33m:\u001b[0m\u001b[1;33m\u001b[0m\u001b[1;33m\u001b[0m\u001b[0m\n\u001b[1;32m--> 442\u001b[1;33m             \u001b[0mrun_method_with_super_classes\u001b[0m\u001b[1;33m(\u001b[0m\u001b[0mcls\u001b[0m\u001b[1;33m,\u001b[0m \u001b[0mself\u001b[0m\u001b[1;33m,\u001b[0m \u001b[1;34m\"setup\"\u001b[0m\u001b[1;33m)\u001b[0m\u001b[1;33m\u001b[0m\u001b[1;33m\u001b[0m\u001b[0m\n\u001b[0m\u001b[0;32m    443\u001b[0m             \u001b[0mself\u001b[0m\u001b[1;33m.\u001b[0m\u001b[0mnostore_params\u001b[0m \u001b[1;33m=\u001b[0m \u001b[1;32mTrue\u001b[0m\u001b[1;33m\u001b[0m\u001b[1;33m\u001b[0m\u001b[0m\n\u001b[0;32m    444\u001b[0m             \u001b[0mself\u001b[0m\u001b[1;33m.\u001b[0m\u001b[0mpd_initialized\u001b[0m \u001b[1;33m=\u001b[0m \u001b[1;32mTrue\u001b[0m\u001b[1;33m\u001b[0m\u001b[1;33m\u001b[0m\u001b[0m\n",
      "\u001b[1;32m~\\anaconda3\\lib\\site-packages\\pixiedust\\display\\app\\pixieapp.py\u001b[0m in \u001b[0;36mrun_method_with_super_classes\u001b[1;34m(cls, instance, method_name)\u001b[0m\n\u001b[0;32m    401\u001b[0m                 \u001b[1;32mif\u001b[0m \u001b[0mf\u001b[0m \u001b[1;32mnot\u001b[0m \u001b[1;32min\u001b[0m \u001b[0mfctSet\u001b[0m \u001b[1;32mand\u001b[0m \u001b[0mcallable\u001b[0m\u001b[1;33m(\u001b[0m\u001b[0mf\u001b[0m\u001b[1;33m)\u001b[0m\u001b[1;33m:\u001b[0m\u001b[1;33m\u001b[0m\u001b[1;33m\u001b[0m\u001b[0m\n\u001b[0;32m    402\u001b[0m                     \u001b[0mfctSet\u001b[0m\u001b[1;33m.\u001b[0m\u001b[0madd\u001b[0m\u001b[1;33m(\u001b[0m\u001b[0mf\u001b[0m\u001b[1;33m)\u001b[0m\u001b[1;33m\u001b[0m\u001b[1;33m\u001b[0m\u001b[0m\n\u001b[1;32m--> 403\u001b[1;33m                     \u001b[0mf\u001b[0m\u001b[1;33m(\u001b[0m\u001b[0minstance\u001b[0m\u001b[1;33m)\u001b[0m\u001b[1;33m\u001b[0m\u001b[1;33m\u001b[0m\u001b[0m\n\u001b[0m\u001b[0;32m    404\u001b[0m \u001b[1;33m\u001b[0m\u001b[0m\n\u001b[0;32m    405\u001b[0m     \u001b[1;32mdef\u001b[0m \u001b[0mrun\u001b[0m\u001b[1;33m(\u001b[0m\u001b[0mself\u001b[0m\u001b[1;33m,\u001b[0m \u001b[0mentity\u001b[0m\u001b[1;33m=\u001b[0m\u001b[1;32mNone\u001b[0m\u001b[1;33m,\u001b[0m \u001b[1;33m**\u001b[0m\u001b[0mkwargs\u001b[0m\u001b[1;33m)\u001b[0m\u001b[1;33m:\u001b[0m\u001b[1;33m\u001b[0m\u001b[1;33m\u001b[0m\u001b[0m\n",
      "\u001b[1;32m~\\anaconda3\\lib\\site-packages\\pixiedust_rosie\\pixie_rosie_UI.py\u001b[0m in \u001b[0;36msetup\u001b[1;34m(self)\u001b[0m\n\u001b[0;32m     25\u001b[0m     \u001b[1;32mdef\u001b[0m \u001b[0msetup\u001b[0m\u001b[1;33m(\u001b[0m\u001b[0mself\u001b[0m\u001b[1;33m)\u001b[0m\u001b[1;33m:\u001b[0m\u001b[1;33m\u001b[0m\u001b[1;33m\u001b[0m\u001b[0m\n\u001b[0;32m     26\u001b[0m         \u001b[0mself\u001b[0m\u001b[1;33m.\u001b[0m\u001b[0mschema\u001b[0m \u001b[1;33m=\u001b[0m \u001b[0mcd\u001b[0m\u001b[1;33m.\u001b[0m\u001b[0mSchema\u001b[0m\u001b[1;33m(\u001b[0m\u001b[0mself\u001b[0m\u001b[1;33m.\u001b[0m\u001b[0mpixieapp_entity\u001b[0m\u001b[1;33m,\u001b[0m \u001b[1;36m50\u001b[0m\u001b[1;33m)\u001b[0m\u001b[1;33m\u001b[0m\u001b[1;33m\u001b[0m\u001b[0m\n\u001b[1;32m---> 27\u001b[1;33m         \u001b[0mself\u001b[0m\u001b[1;33m.\u001b[0m\u001b[0mschema\u001b[0m\u001b[1;33m.\u001b[0m\u001b[0mload_and_process\u001b[0m\u001b[1;33m(\u001b[0m\u001b[1;33m)\u001b[0m\u001b[1;33m\u001b[0m\u001b[1;33m\u001b[0m\u001b[0m\n\u001b[0m\u001b[0;32m     28\u001b[0m \u001b[1;33m\u001b[0m\u001b[0m\n\u001b[0;32m     29\u001b[0m     \u001b[1;33m@\u001b[0m\u001b[0mroute\u001b[0m\u001b[1;33m(\u001b[0m\u001b[1;33m)\u001b[0m\u001b[1;33m\u001b[0m\u001b[1;33m\u001b[0m\u001b[0m\n",
      "\u001b[1;32m~\\anaconda3\\lib\\site-packages\\pixiedust_rosie\\classify\\classify_data.py\u001b[0m in \u001b[0;36mload_and_process\u001b[1;34m(self)\u001b[0m\n\u001b[0;32m    154\u001b[0m     \u001b[1;31m#\u001b[0m\u001b[1;33m\u001b[0m\u001b[1;33m\u001b[0m\u001b[1;33m\u001b[0m\u001b[0m\n\u001b[0;32m    155\u001b[0m     \u001b[1;32mdef\u001b[0m \u001b[0mload_and_process\u001b[0m\u001b[1;33m(\u001b[0m\u001b[0mself\u001b[0m\u001b[1;33m)\u001b[0m\u001b[1;33m:\u001b[0m\u001b[1;33m\u001b[0m\u001b[1;33m\u001b[0m\u001b[0m\n\u001b[1;32m--> 156\u001b[1;33m         \u001b[0mself\u001b[0m\u001b[1;33m.\u001b[0m\u001b[0mmatcher\u001b[0m \u001b[1;33m=\u001b[0m \u001b[0mrm\u001b[0m\u001b[1;33m.\u001b[0m\u001b[0mMatcher\u001b[0m\u001b[1;33m(\u001b[0m\u001b[1;33m)\u001b[0m\u001b[1;33m\u001b[0m\u001b[1;33m\u001b[0m\u001b[0m\n\u001b[0m\u001b[0;32m    157\u001b[0m         \u001b[0mok\u001b[0m\u001b[1;33m,\u001b[0m \u001b[0merr\u001b[0m \u001b[1;33m=\u001b[0m \u001b[0mself\u001b[0m\u001b[1;33m.\u001b[0m\u001b[0mload_sample_data\u001b[0m\u001b[1;33m(\u001b[0m\u001b[1;33m)\u001b[0m\u001b[1;33m\u001b[0m\u001b[1;33m\u001b[0m\u001b[0m\n\u001b[0;32m    158\u001b[0m         \u001b[1;32mif\u001b[0m \u001b[1;32mnot\u001b[0m \u001b[0mok\u001b[0m\u001b[1;33m:\u001b[0m\u001b[1;33m\u001b[0m\u001b[1;33m\u001b[0m\u001b[0m\n",
      "\u001b[1;32m~\\anaconda3\\lib\\site-packages\\pixiedust_rosie\\classify\\rosie_matcher.py\u001b[0m in \u001b[0;36m__init__\u001b[1;34m(self)\u001b[0m\n\u001b[0;32m     56\u001b[0m         \u001b[0mrosie_home\u001b[0m \u001b[1;33m=\u001b[0m \u001b[0mos\u001b[0m\u001b[1;33m.\u001b[0m\u001b[0mgetenv\u001b[0m\u001b[1;33m(\u001b[0m\u001b[1;34m'ROSIE_HOME'\u001b[0m\u001b[1;33m)\u001b[0m\u001b[1;33m\u001b[0m\u001b[1;33m\u001b[0m\u001b[0m\n\u001b[0;32m     57\u001b[0m         \u001b[1;32mif\u001b[0m \u001b[0mrosie_home\u001b[0m\u001b[1;33m:\u001b[0m \u001b[0mrosie\u001b[0m\u001b[1;33m.\u001b[0m\u001b[0mload\u001b[0m\u001b[1;33m(\u001b[0m\u001b[0mos\u001b[0m\u001b[1;33m.\u001b[0m\u001b[0mpath\u001b[0m\u001b[1;33m.\u001b[0m\u001b[0mjoin\u001b[0m\u001b[1;33m(\u001b[0m\u001b[0mrosie_home\u001b[0m\u001b[1;33m,\u001b[0m \u001b[1;34m'src/librosie/local'\u001b[0m\u001b[1;33m)\u001b[0m\u001b[1;33m)\u001b[0m\u001b[1;33m\u001b[0m\u001b[1;33m\u001b[0m\u001b[0m\n\u001b[1;32m---> 58\u001b[1;33m         \u001b[0mself\u001b[0m\u001b[1;33m.\u001b[0m\u001b[0mengine\u001b[0m \u001b[1;33m=\u001b[0m \u001b[0mrosie\u001b[0m\u001b[1;33m.\u001b[0m\u001b[0mengine\u001b[0m\u001b[1;33m(\u001b[0m\u001b[1;33m)\u001b[0m\u001b[1;33m\u001b[0m\u001b[1;33m\u001b[0m\u001b[0m\n\u001b[0m\u001b[0;32m     59\u001b[0m         \u001b[0mself\u001b[0m\u001b[1;33m.\u001b[0m\u001b[0mengine\u001b[0m\u001b[1;33m.\u001b[0m\u001b[0mimport_pkg\u001b[0m\u001b[1;33m(\u001b[0m\u001b[1;34mb'all'\u001b[0m\u001b[1;33m)\u001b[0m\u001b[1;33m\u001b[0m\u001b[1;33m\u001b[0m\u001b[0m\n\u001b[0;32m     60\u001b[0m         \u001b[0mself\u001b[0m\u001b[1;33m.\u001b[0m\u001b[0mengine\u001b[0m\u001b[1;33m.\u001b[0m\u001b[0mimport_pkg\u001b[0m\u001b[1;33m(\u001b[0m\u001b[1;34mb'csv'\u001b[0m\u001b[1;33m)\u001b[0m\u001b[1;33m\u001b[0m\u001b[1;33m\u001b[0m\u001b[0m\n",
      "\u001b[1;32m~\\anaconda3\\lib\\site-packages\\rosie\\rosie.py\u001b[0m in \u001b[0;36m__init__\u001b[1;34m(self)\u001b[0m\n\u001b[0;32m     67\u001b[0m \u001b[1;33m\u001b[0m\u001b[0m\n\u001b[0;32m     68\u001b[0m     \u001b[1;32mdef\u001b[0m \u001b[0m__init__\u001b[0m\u001b[1;33m(\u001b[0m\u001b[0mself\u001b[0m\u001b[1;33m)\u001b[0m\u001b[1;33m:\u001b[0m\u001b[1;33m\u001b[0m\u001b[1;33m\u001b[0m\u001b[0m\n\u001b[1;32m---> 69\u001b[1;33m         \u001b[0mself\u001b[0m\u001b[1;33m.\u001b[0m\u001b[0m_engine\u001b[0m \u001b[1;33m=\u001b[0m \u001b[0minternal\u001b[0m\u001b[1;33m.\u001b[0m\u001b[0mengine\u001b[0m\u001b[1;33m(\u001b[0m\u001b[1;33m)\u001b[0m\u001b[1;33m\u001b[0m\u001b[1;33m\u001b[0m\u001b[0m\n\u001b[0m\u001b[0;32m     70\u001b[0m \u001b[1;33m\u001b[0m\u001b[0m\n\u001b[0;32m     71\u001b[0m     \u001b[1;31m# -----------------------------------------------------------------------------\u001b[0m\u001b[1;33m\u001b[0m\u001b[1;33m\u001b[0m\u001b[1;33m\u001b[0m\u001b[0m\n",
      "\u001b[1;32m~\\anaconda3\\lib\\site-packages\\rosie\\internal.py\u001b[0m in \u001b[0;36m__init__\u001b[1;34m(self)\u001b[0m\n\u001b[0;32m    192\u001b[0m     \u001b[1;32mdef\u001b[0m \u001b[0m__init__\u001b[0m\u001b[1;33m(\u001b[0m\u001b[0mself\u001b[0m\u001b[1;33m)\u001b[0m\u001b[1;33m:\u001b[0m\u001b[1;33m\u001b[0m\u001b[1;33m\u001b[0m\u001b[0m\n\u001b[0;32m    193\u001b[0m         \u001b[1;32mglobal\u001b[0m \u001b[0m_lib\u001b[0m\u001b[1;33m\u001b[0m\u001b[1;33m\u001b[0m\u001b[0m\n\u001b[1;32m--> 194\u001b[1;33m         \u001b[1;32mif\u001b[0m \u001b[1;32mnot\u001b[0m \u001b[0m_lib\u001b[0m\u001b[1;33m:\u001b[0m \u001b[0mload\u001b[0m\u001b[1;33m(\u001b[0m\u001b[1;33m)\u001b[0m\u001b[1;33m\u001b[0m\u001b[1;33m\u001b[0m\u001b[0m\n\u001b[0m\u001b[0;32m    195\u001b[0m         \u001b[0mCerrs\u001b[0m \u001b[1;33m=\u001b[0m \u001b[0m_new_cstr\u001b[0m\u001b[1;33m(\u001b[0m\u001b[1;33m)\u001b[0m\u001b[1;33m\u001b[0m\u001b[1;33m\u001b[0m\u001b[0m\n\u001b[0;32m    196\u001b[0m         \u001b[0mself\u001b[0m\u001b[1;33m.\u001b[0m\u001b[0mengine\u001b[0m \u001b[1;33m=\u001b[0m \u001b[0m_lib\u001b[0m\u001b[1;33m.\u001b[0m\u001b[0mrosie_new\u001b[0m\u001b[1;33m(\u001b[0m\u001b[0mCerrs\u001b[0m\u001b[1;33m)\u001b[0m\u001b[1;33m\u001b[0m\u001b[1;33m\u001b[0m\u001b[0m\n",
      "\u001b[1;32m~\\anaconda3\\lib\\site-packages\\rosie\\internal.py\u001b[0m in \u001b[0;36mload\u001b[1;34m(path, quiet)\u001b[0m\n\u001b[0;32m    147\u001b[0m                 \u001b[0m_load_from\u001b[0m\u001b[1;33m(\u001b[0m\u001b[1;34m''\u001b[0m\u001b[1;33m)\u001b[0m     \u001b[1;31m# system\u001b[0m\u001b[1;33m\u001b[0m\u001b[1;33m\u001b[0m\u001b[0m\n\u001b[0;32m    148\u001b[0m             \u001b[1;32mexcept\u001b[0m \u001b[0mOSError\u001b[0m\u001b[1;33m:\u001b[0m\u001b[1;33m\u001b[0m\u001b[1;33m\u001b[0m\u001b[0m\n\u001b[1;32m--> 149\u001b[1;33m                 \u001b[1;32mraise\u001b[0m \u001b[0mRuntimeError\u001b[0m\u001b[1;33m(\u001b[0m\u001b[1;34m'Cannot find librosie in local directory or system installation'\u001b[0m\u001b[1;33m)\u001b[0m\u001b[1;33m\u001b[0m\u001b[1;33m\u001b[0m\u001b[0m\n\u001b[0m\u001b[0;32m    150\u001b[0m     \u001b[1;32melif\u001b[0m \u001b[0mpath\u001b[0m \u001b[1;33m==\u001b[0m \u001b[0mlibrosie_system\u001b[0m\u001b[1;33m:\u001b[0m\u001b[1;33m\u001b[0m\u001b[1;33m\u001b[0m\u001b[0m\n\u001b[0;32m    151\u001b[0m         \u001b[1;32mtry\u001b[0m\u001b[1;33m:\u001b[0m\u001b[1;33m\u001b[0m\u001b[1;33m\u001b[0m\u001b[0m\n",
      "\u001b[1;31mRuntimeError\u001b[0m: Cannot find librosie in local directory or system installation"
     ]
    }
   ],
   "source": [
    "# url = \"https://raw.githubusercontent.com/pixiedust/pixiedust_rosie/master/sample-data/HCUP_Tutorial.csv\"\n",
    "# url = \"https://github.com/ibm-watson-data-lab/pixiedust_rosie/raw/master/sample-data/Healthcare_Cost_and_Utilization_Project__HCUP__-_National_Inpatient_Sample.csv\"\n",
    "url = \"https://raw.githubusercontent.com/CSSEGISandData/COVID-19/master/csse_covid_19_data/csse_covid_19_time_series/time_series_covid19_confirmed_global.csv\"\n",
    "pixiedust_rosie.wrangle_data(url)"
   ]
  },
  {
   "cell_type": "code",
   "execution_count": null,
   "metadata": {},
   "outputs": [],
   "source": [
    "# DON'T TOUCH THE 'DRIVER' ATTRIBUTE!\n",
    "dsn = \"DATABASE=BLUDB;HOSTNAME=dashdb-txn-sbox-yp-dal09-08.services.dal.bluemix.net;PORT=50000;PROTOCOL=TCPIP;UID=hbs51528;PWD=hl9zvb3t4sp0w6@r;\"\n",
    "# dsn = \"DRIVER={{IBM DB2 ODBC DRIVER}};\" + \\\n",
    "#       \"DATABASE={BLUDB};\" + \\\n",
    "#       \"HOSTNAME={dashdb-txn-sbox-yp-dal09-08.services.dal.bluemix.net};\" + \\\n",
    "#       \"PORT=50000;\" + \\\n",
    "#       \"PROTOCOL=TCPIP;\" + \\\n",
    "#       \"UID={hbs51528};\" + \\\n",
    "#       \"PWD={hl9zvb3t4sp0w6@r};\"\n",
    "SCHEMA_NAME = 'HBS51528'\n",
    "hdbc = ibm_db.connect(dsn, \"\", \"\")\n",
    "hdbi = ibm_db_dbi.Connection(hdbc)\n",
    "print('Connection To DB2 Instance Has Been Created!')"
   ]
  },
  {
   "cell_type": "code",
   "execution_count": null,
   "metadata": {},
   "outputs": [],
   "source": [
    "# Query Strings\n",
    "sql = 'CREATE TABLE '+SCHEMA_NAME+'.JHUCOVIDSUMMARY ( ' + \\\n",
    "      'ID SMALLINT NOT NULL GENERATED ALWAYS AS IDENTITY, ' + \\\n",
    "      'Global__NewConfirmed INTEGER, ' + \\\n",
    "      'Global__TotalConfirmed INTEGER, ' + \\\n",
    "      'Global__NewDeaths INTEGER, ' + \\\n",
    "      'Global__TotalDeaths INTEGER, ' + \\\n",
    "      'Global__NewRecovered INTEGER, ' + \\\n",
    "      'Global__TotalRecovered INTEGER, ' + \\\n",
    "      'Countries__Country VARCHAR(255), ' + \\\n",
    "      'Countries__CountryCode VARCHAR(255), ' + \\\n",
    "      'Countries__Slug VARCHAR(255), ' + \\\n",
    "      'Countries__NewConfirmed INTEGER, ' + \\\n",
    "      'Countries__TotalConfirmed INTEGER, ' + \\\n",
    "      'Countries__NewDeaths INTEGER, ' + \\\n",
    "      'Countries__TotalDeaths INTEGER, ' + \\\n",
    "      'Countries__NewRecovered INTEGER, ' + \\\n",
    "      'Countries__TotalRecovered INTEGER, ' + \\\n",
    "      'Countries__Date VARCHAR(255))'\n",
    "#     var selectString = \"select * from covidsummary\";\n",
    "#     var deleteString = \"drop table covidsummaryUPDATE\";"
   ]
  },
  {
   "cell_type": "code",
   "execution_count": null,
   "metadata": {},
   "outputs": [],
   "source": [
    "try:\n",
    "    stmt = ibm_db.exec_immediate(hdbc, sql)\n",
    "    print('Table JHUCOVIDSUMMARY Has Been Created Under ' + str(SCHEMA_NAME) + ' Schema!')\n",
    "except:\n",
    "    print('ERROR: Table Already Exist Or Some Other Error')"
   ]
  },
  {
   "cell_type": "code",
   "execution_count": null,
   "metadata": {},
   "outputs": [],
   "source": [
    "# sql2 = 'CREATE TABLE '+SCHEMA_NAME+'.JSONPO( ' + \\\n",
    "# 'ID SMALLINT NOT NULL GENERATED ALWAYS AS IDENTITY)'"
   ]
  },
  {
   "cell_type": "code",
   "execution_count": null,
   "metadata": {},
   "outputs": [],
   "source": [
    "sql_create = 'CREATE TABLE '+SCHEMA_NAME+'.JSONPO( ' + \\\n",
    "        'ID INTEGER NOT NULL GENERATED ALWAYS AS IDENTITY, DATA BLOB(16M) INLINE LENGTH 25000, PRIMARY KEY(ID)) CCSID UNICODE;' "
   ]
  },
  {
   "cell_type": "code",
   "execution_count": null,
   "metadata": {},
   "outputs": [],
   "source": [
    "try:\n",
    "    stmt = ibm_db.exec_immediate(hdbc, sql_create)\n",
    "    print('Table JSONPO Has Been Created Under ' + str(SCHEMA_NAME) + ' Schema!')\n",
    "except:\n",
    "    print('ERROR: Table Already Exist Or Some Other Error')"
   ]
  },
  {
   "cell_type": "code",
   "execution_count": null,
   "metadata": {},
   "outputs": [],
   "source": [
    "# Using a switcher (or a dictionary to map cases to their functionality) for Python Switch Case Statement\n",
    "def dict_key(key):\n",
    "        switcher={\n",
    "                'Global':'Global',\n",
    "                'Countries':'Countries'\n",
    "             }\n",
    "        return switcher.get(key,\"Not a valid key\")"
   ]
  },
  {
   "cell_type": "code",
   "execution_count": null,
   "metadata": {},
   "outputs": [],
   "source": [
    "# # Using Python Functions & Lambdas in the dictionary (dict)\n",
    "# def Global():\n",
    "#         return 'Global'\n",
    "# def Countries():\n",
    "#         return 'Countries'\n",
    "# def indirect(key):\n",
    "#         switcher={\n",
    "#                 'Global':Global,\n",
    "#                 'Countries':Countries\n",
    "#                 }\n",
    "#         func=switcher.get(key,'Not a valid key')\n",
    "#         return func()"
   ]
  },
  {
   "cell_type": "code",
   "execution_count": null,
   "metadata": {},
   "outputs": [],
   "source": [
    "#Parse JSON (HAD TO USE API URL)\n",
    "def jhu_search():\n",
    "    try:\n",
    "#         url = 'https://api.covid19api.com/summary#'\n",
    "        url = 'https://covid19.mathdro.id/api'\n",
    "        # To execute get request\n",
    "        response =  reqs.get(url) # Difference between urrlib & request: https://stackoverflow.com/questions/38114499/difference-between-requests-get-and-urrlib-request-urlopen-python\n",
    "        response.raise_for_status() # Raise error in case of failure\n",
    "        jsonResponse = response.json() # To get response dictionary as JSON content             \n",
    "        \n",
    "    except HTTPError as http_err:\n",
    "        print(f'HTTP error occurred: {http_err}')\n",
    "    except requests.exceptions.ConnectionError as connErr: \n",
    "        print (\"Error Connecting:\", connErr) \n",
    "    except requests.exceptions.Timeout as timeOutErr: \n",
    "        print (\"Timeout Error:\", timeOutErr) \n",
    "    except requests.exceptions.RequestException as reqErr: \n",
    "        print (\"Something Else:\", reqErr) \n",
    "    except OSError as exc:\n",
    "        if exc.errno == 36:\n",
    "            print(f'OSError: [Errno 36] File name too long: {exc}')\n",
    "        else:\n",
    "            raise  # re-raise previously caught exception\n",
    "    except Exception as err:\n",
    "        print(f'Other error occurred: {err}')\n",
    "        \n",
    "               \n",
    "#     return jsonResponse\n",
    "\n",
    "# # iterate all JSON key-value pairs one-by-one.\n",
    "\n",
    "# print('Your IP is {0}'.format(response.json()['origin']))\n",
    "\n",
    "    for hlKey in jsonResponse:\n",
    "        if dict_key(hlKey) == 'Global':\n",
    "            print('A standard dictionary (dict) key: {0}'.format(hlKey))\n",
    "        else:\n",
    "            print('Other key: {0}'.format(hlKey))\n",
    "        for key, value in jsonResponse.items():\n",
    "            if isinstance(value, dict):\n",
    "                print('Likely key with a list of multiple values in the dict : {0}'.format(value))\n",
    "            else:\n",
    "                print('A standard dict key: {0} & value: {1}'.format(key,value))\n",
    "        \n",
    "#         for k, v in jsonResponse.items():\n",
    "# #             time.sleep(0.05)\n",
    "#             for k1, v1 in v.items():\n",
    "#                 print(k1)       \n",
    "        \n",
    "# https://www.dataquest.io/blog/python-json-tutorial/\n",
    "    "
   ]
  },
  {
   "cell_type": "code",
   "execution_count": null,
   "metadata": {},
   "outputs": [],
   "source": [
    "jhu_search()"
   ]
  },
  {
   "cell_type": "code",
   "execution_count": null,
   "metadata": {},
   "outputs": [],
   "source": [
    "# try:\n",
    "#     #Parse JSON (HAD TO USE API URL)\n",
    "# #     url = \"https://api.covid19api.com/summary#\"\n",
    "# #     json_obj = requests.get(url)\n",
    "# #     data = json_obj.json()\n",
    "#         url = 'https://api.covid19api.com/summary#'\n",
    "#         # To execute get request\n",
    "#         response =  reqs.get(url) # Difference between urrlib & request: https://stackoverflow.com/questions/38114499/difference-between-requests-get-and-urrlib-request-urlopen-python\n",
    "#         response.raise_for_status() # Raise error in case of failure\n",
    "#         data = response.json() # To get response dictionary as JSON content\n",
    "        \n",
    "#         for i in jsonResponse:\n",
    "#             sql_inter = 'INSERT INTO '+SCHEMA_NAME+'.JSONPO VALUES ('\n",
    "#             'SYSTOOLS.JSON2BSON(\\' {\"NewConfirmed\": \"'+str(data[i]['Global']['NewConfirmed'])+'\"} \\') , ' # SYSTOOLS.JSON2BSON({\\''+data[i]+'\\'}))'\n",
    "#             stmt = ibm_db.exec_immediate(hdbc, sql_inter)\n",
    "#             print('Table JSONPO Has Been Created Under ' + str(SCHEMA_NAME) + ' Schema!')\n",
    "# except:\n",
    "#     print('ERROR: Table Already Exist Or Some Other Error')"
   ]
  },
  {
   "cell_type": "code",
   "execution_count": null,
   "metadata": {},
   "outputs": [],
   "source": [
    "# # Global and Countries\n",
    "# # 'ID, ' + \\\n",
    "# sql_p1 = 'INSERT INTO '+SCHEMA_NAME+'.JHUCOVIDSUMMARY (' + \\\n",
    "#             'Global__NewConfirmed' + ', ' + \\\n",
    "#             'Global__TotalConfirmed' + ', ' + \\\n",
    "#             'Global__NewDeaths' + ', ' + \\\n",
    "#             'Global__TotalDeaths' + ', ' + \\\n",
    "#             'Global__NewRecovered' + ', ' + \\\n",
    "#             'Global__TotalRecovered' + ', ' + \\\n",
    "#             'Countries__Country' + ', ' + \\\n",
    "#             'Countries__CountryCode' + ', ' + \\\n",
    "#             'Countries__Slug' + ', ' + \\\n",
    "#             'Countries__NewConfirmed' + ', ' + \\\n",
    "#             'Countries__TotalConfirmed' + ', ' + \\\n",
    "#             'Countries__NewDeaths' + ', ' + \\\n",
    "#             'Countries__TotalDeaths' + ', ' + \\\n",
    "#             'Countries__NewRecovered' + ', ' + \\\n",
    "#             'Countries__TotalRecovered' + ', ' + \\\n",
    "#             'Countries__Date' + ')'\n",
    "\n",
    "# #Parse JSON (HAD TO USE API URL)\n",
    "# def jhu_search():\n",
    "#     url = \"https://api.covid19api.com/summary#\"\n",
    "#     json_obj = requests.get(url)\n",
    "#     data = json_obj.json()          \n",
    "# #     return data\n",
    "#     sql_p2 = ''\n",
    "#     for gItem in data['Global']:\n",
    "#         for cItem in data['Countries']:\n",
    "#             sql_p2 += ' VALUES ('\n",
    "#             'SYSTOOLS.JSON2BSON(\\' {\"NewConfirmed\": \"'+str(gItem['Global']['NewConfirmed'])+'\"} \\') , ' \n",
    "#             'SYSTOOLS.JSON2BSON(\\' {\"TotalConfirmed\": \"'+str(gItem['Global']['TotalConfirmed'])+'\"} \\') , '\n",
    "#             'SYSTOOLS.JSON2BSON(\\' {\"NewDeaths\": \"'+str(gItem['Global']['NewDeaths'])+'\"} \\') , '\n",
    "#             'SYSTOOLS.JSON2BSON(\\' {\"TotalDeaths\": \"'+str(gItem['Global']['TotalDeaths'])+'\"} \\') , ' \n",
    "#             'SYSTOOLS.JSON2BSON(\\' {\"NewRecovered\": \"'+str(gItemm['Global']['NewRecovered'])+'\"} \\') , '\n",
    "#             'SYSTOOLS.JSON2BSON(\\' {\"TotalRecovered\": \"'+str(gItem['Global']['TotalRecovered'])+'\"} \\') , ' \n",
    "#             'SYSTOOLS.JSON2BSON(\\' {\"Country\": \"'+str(cItem['Countries']['Country'])+'\"} \\') , '\n",
    "#             'SYSTOOLS.JSON2BSON(\\' {\"CountryCode\": \"'+str(cItem['Countries']['CountryCode'])+'\"} \\') , '\n",
    "#             'SYSTOOLS.JSON2BSON(\\' {\"Slug\": \"'+str(cItem['Countries']['Slug'])+'\"} \\') , '\n",
    "#             'SYSTOOLS.JSON2BSON(\\' {\"NewConfirmed\": \"'+str(cItem['Countries']['NewConfirmed'])+'\"} \\') , '\n",
    "#             'SYSTOOLS.JSON2BSON(\\' {\"TotalConfirmed\": \"'+str(cItem['Countries']['TotalConfirmed'])+'\"} \\') , '\n",
    "#             'SYSTOOLS.JSON2BSON(\\' {\"NewDeaths\": \"'+str(cItem['Countries']['NewDeaths'])+'\"} \\') , '\n",
    "#             'SYSTOOLS.JSON2BSON(\\' {\"TotalDeaths\": \"'+str(cItem['Countries']['TotalDeaths'])+'\"} \\') , '\n",
    "#             'SYSTOOLS.JSON2BSON(\\' {\"NewRecovered\": \"'+str(cItem['Countries']['NewRecovered'])+'\"} \\') , '\n",
    "#             'SYSTOOLS.JSON2BSON(\\' {\"TotalRecovered\": \"'+str(cItem['Countries']['TotalRecovered'])+'\"} \\') , '\n",
    "#             'SYSTOOLS.JSON2BSON(\\' {\"Date\": \"'+str(cItem['Countries']['Date'])+'\"} \\'), '\n",
    "#             ')'\n",
    "            \n",
    "#     sql_final  = sql_p1 + sql_p2\n",
    "#     stmt = ibm_db.exec_immediate(hdbc, sql_final)"
   ]
  },
  {
   "cell_type": "code",
   "execution_count": null,
   "metadata": {},
   "outputs": [],
   "source": [
    "# Global and Countries\n",
    "# 'ID, ' + \\\n",
    "# sql_p1 = 'INSERT INTO '+SCHEMA_NAME+'.JHUCOVIDSUMMARY (' + \\\n",
    "#             'Global__NewConfirmed' + ', ' + \\\n",
    "#             'Global__TotalConfirmed' + ', ' + \\\n",
    "#             'Global__NewDeaths' + ', ' + \\\n",
    "#             'Global__TotalDeaths' + ', ' + \\\n",
    "#             'Global__NewRecovered' + ', ' + \\\n",
    "#             'Global__TotalRecovered' + ', ' + \\\n",
    "#             'Countries__Country' + ', ' + \\\n",
    "#             'Countries__CountryCode' + ', ' + \\\n",
    "#             'Countries__Slug' + ', ' + \\\n",
    "#             'Countries__NewConfirmed' + ', ' + \\\n",
    "#             'Countries__TotalConfirmed' + ', ' + \\\n",
    "#             'Countries__NewDeaths' + ', ' + \\\n",
    "#             'Countries__TotalDeaths' + ', ' + \\\n",
    "#             'Countries__NewRecovered' + ', ' + \\\n",
    "#             'Countries__TotalRecovered' + ', ' + \\\n",
    "#             'Countries__Date' + ')'\n",
    "\n",
    "# #Store Analyzed Data from JSON API URL\n",
    "# lam = data['Global']['NewDeaths']\n",
    "# size = data['Global']['TotalDeaths']"
   ]
  },
  {
   "cell_type": "code",
   "execution_count": null,
   "metadata": {},
   "outputs": [],
   "source": [
    "# for v, k in data.items():\n",
    "#     if not isinstance(k, list):\n",
    "#         for x, y in k.items():\n",
    "#             print(x,':', y)\n",
    "#     else:\n",
    "#         for i in k:\n",
    "#             for s, m in i.items():\n",
    "#                 print(s,':', m)\n",
    "\n",
    "# for item in data:\n",
    "# sql_p2 = ' VALUES (' + 'SYSTOOLS.JSON2BSON(\\' {\"NewConfirmed\": \"'+str(item['Global']['NewConfirmed'])+'\"} \\'),'\n",
    "# +        'SYSTOOLS.JSON2BSON(\\' {\"TotalConfirmed\": \"'+str(item['Global']['TotalConfirmed'])+'\"} \\'),'\n",
    "# +        'SYSTOOLS.JSON2BSON(\\' {\"NewDeaths\": \"'+str(item['Global']['NewDeaths'])+'\"} \\'), '\n",
    "# +        'SYSTOOLS.JSON2BSON(\\' {\"TotalDeaths\": \"'+str(item['Global']['TotalDeaths'])+'\"} \\'),'\n",
    "# +        'SYSTOOLS.JSON2BSON(\\' {\"NewRecovered\": \"'+str(item['Global']['NewRecovered'])+'\"} \\'),'\n",
    "# +        'SYSTOOLS.JSON2BSON(\\' {\"TotalRecovered\": \"'+str(item['Global']['TotalRecovered'])+'\"} \\'),' \n",
    "# +        'SYSTOOLS.JSON2BSON(\\' {\"Country\": \"'+str(item['Countries']['Country'])+'\"} \\'), '\n",
    "# +        'SYSTOOLS.JSON2BSON(\\' {\"CountryCode\": \"'+str(item['Countries']['CountryCode'])+'\"} \\'),'\n",
    "# +        'SYSTOOLS.JSON2BSON(\\' {\"Slug\": \"'+str(item['Countries']['Slug'])+'\"} \\'), '\n",
    "# +        'SYSTOOLS.JSON2BSON(\\' {\"NewConfirmed\": \"'+str(item['Countries']['NewConfirmed'])+'\"} \\'),'\n",
    "# +        'SYSTOOLS.JSON2BSON(\\' {\"TotalConfirmed\": \"'+str(item['Countries']['TotalConfirmed'])+'\"} \\'),'\n",
    "# +        'SYSTOOLS.JSON2BSON(\\' {\"NewDeaths\": \"'+str(item['Countries']['NewDeaths'])+'\"} \\'),'\n",
    "# +        'SYSTOOLS.JSON2BSON(\\' {\"TotalDeaths\": \"'+str(item['Countries']['TotalDeaths'])+'\"} \\'),'\n",
    "# +        'SYSTOOLS.JSON2BSON(\\' {\"NewRecovered\": \"'+str(item['Countries']['NewRecovered'])+'\"} \\'),'\n",
    "# +        'SYSTOOLS.JSON2BSON(\\' {\"TotalRecovered\": \"'+str(item['Countries']['TotalRecovered'])+'\"} \\'),'\n",
    "# +        'SYSTOOLS.JSON2BSON(\\' {\"Date\": \"'+str(item['Countries']['Date'])+'\"} \\'),'\n",
    "# +')'\n",
    "\n",
    "# sql_final  = sql_p1 + sql_p2\n",
    "# stmt = ibm_db.exec_immediate(hdbc, sql_final)\n",
    "\n",
    "\n",
    "# global_newConfirmed = row['Global']['NewConfirmed']\n",
    "# global_totalConfirmed = row['Global']['TotalConfirmed']\n",
    "# global_newDeaths = row['Global']['NewDeaths']\n",
    "# global_totalDeaths = row['Global']['TotalDeaths']\n",
    "# global_newRecovered = row['Global']['NewRecovered']\n",
    "# global_totalRecovered = row['Global']['TotalRecovered']\n",
    "# countries_country = row['Countries']['Country']\n",
    "# countries_countryCode = row['Countries']['CountryCode']\n",
    "# countries_slug = row['Countries']['Slug']\n",
    "# countries_newConfirmed = row['Countries']['NewConfirmed']\n",
    "# countries_totalConfirmed = row['Countries']['TotalConfirmed']\n",
    "# countries_newDeaths = row['Countries']['NewDeaths']\n",
    "# countries_totalDeaths = row['Countries']['TotalDeaths']\n",
    "# countries_newRecovered = row['Countries']['NewRecovered']\n",
    "# countries_totalRecovered = row['Countries']['TotalRecovered']\n",
    "# countries_date = row['Countries']['Date']\n",
    "#     for index, row in data.iterrows():\n",
    "#     sql_p2 = ' VALUES (' + \\\n",
    "#         'SYSTOOLS.JSON2BSON(\\' {\"NewConfirmed\": \"'+str(global_newConfirmed)+'\"} \\') , ' + \\\n",
    "#         'SYSTOOLS.JSON2BSON(\\' {\"TotalConfirmed\": \"'+str(global_totalConfirmed)+'\"} \\') , ' + \\ \n",
    "#         'SYSTOOLS.JSON2BSON(\\' {\"NewDeaths\": \"'+str(global_newDeaths)+'\"} \\') , ' + \\\n",
    "#         'SYSTOOLS.JSON2BSON(\\' {\"TotalDeaths\": \"'+str(global_totalDeaths)+'\"} \\') , ' + \\\n",
    "#         'SYSTOOLS.JSON2BSON(\\' {\"NewRecovered\": \"'+str(global_totalConfirmed)+'\"} \\') , ' + \\ \n",
    "#         'SYSTOOLS.JSON2BSON(\\' {\"TotalRecovered\": \"'+str(global_totalConfirmed)+'\"} \\') , ' + \\ \n",
    "#         'SYSTOOLS.JSON2BSON(\\' {\"Country\": \"'+str(countries_country)+'\"} \\') , ' + \\\n",
    "#         'SYSTOOLS.JSON2BSON(\\' {\"CountryCode\": \"'+str(countries_countryCode)+'\"} \\') , ' + \\\n",
    "#         'SYSTOOLS.JSON2BSON(\\' {\"Slug\": \"'+str(countries_slug)+'\"} \\') , ' + \\\n",
    "#         'SYSTOOLS.JSON2BSON(\\' {\"NewConfirmed\": \"'+str(countries_newConfirmed)+'\"} \\') , ' + \\\n",
    "#         'SYSTOOLS.JSON2BSON(\\' {\"TotalConfirmed\": \"'+str(countries_totalConfirmed)+'\"} \\') , ' + \\\n",
    "#         'SYSTOOLS.JSON2BSON(\\' {\"NewDeaths\": \"'+str(countries_newDeaths)+'\"} \\') , ' + \\\n",
    "#         'SYSTOOLS.JSON2BSON(\\' {\"TotalDeaths\": \"'+str(countries_totalDeaths)+'\"} \\') , ' + \\ \n",
    "#         'SYSTOOLS.JSON2BSON(\\' {\"NewRecovered\": \"'+str(countries_newRecovered)+'\"} \\') , ' + \\\n",
    "#         'SYSTOOLS.JSON2BSON(\\' {\"TotalRecovered\": \"'+str(countries_totalRecovered)+'\"} \\') , ' + \\\n",
    "#         'SYSTOOLS.JSON2BSON(\\' {\"Date\": \"'+str(countries_date)+' ' + \\\n",
    "#     ')'\n",
    "\n"
   ]
  },
  {
   "cell_type": "code",
   "execution_count": null,
   "metadata": {},
   "outputs": [],
   "source": []
  },
  {
   "cell_type": "code",
   "execution_count": null,
   "metadata": {},
   "outputs": [],
   "source": []
  },
  {
   "cell_type": "code",
   "execution_count": null,
   "metadata": {},
   "outputs": [],
   "source": [
    "# Data Loading \n",
    "# Johns Hopkins CSV interaction using JHU CSSE COVID-19 \n",
    "# Dataset Time series summary (csse_covid_19_time_series)\n",
    "death_df = pd.read_csv(\"https://raw.githubusercontent.com/CSSEGISandData/COVID-19/master/csse_covid_19_data/csse_covid_19_time_series/time_series_covid19_confirmed_global.csv\")\n",
    "confirmed_df = pd.read_csv(\"https://raw.githubusercontent.com/CSSEGISandData/COVID-19/master/csse_covid_19_data/csse_covid_19_time_series/time_series_covid19_deaths_global.csv\")\n",
    "recovered_df = pd.read_csv(\"https://raw.githubusercontent.com/CSSEGISandData/COVID-19/master/csse_covid_19_data/csse_covid_19_time_series/time_series_covid19_recovered_global.csv\")\n",
    "country_df = pd.read_csv(\"https://raw.githubusercontent.com/cssegisanddata/covid-19/web-data/data/cases_country.csv\")"
   ]
  },
  {
   "cell_type": "code",
   "execution_count": null,
   "metadata": {},
   "outputs": [],
   "source": [
    "# Data preparation\n",
    "death_df.head();"
   ]
  },
  {
   "cell_type": "code",
   "execution_count": null,
   "metadata": {},
   "outputs": [],
   "source": [
    "# Data preparation\n",
    "confirmed_df.head();"
   ]
  },
  {
   "cell_type": "code",
   "execution_count": null,
   "metadata": {},
   "outputs": [],
   "source": [
    "# Data preparation\n",
    "recovered_df.head();"
   ]
  },
  {
   "cell_type": "code",
   "execution_count": null,
   "metadata": {},
   "outputs": [],
   "source": [
    "# Data preparation\n",
    "country_df.head();"
   ]
  },
  {
   "cell_type": "code",
   "execution_count": null,
   "metadata": {},
   "outputs": [],
   "source": [
    "# data cleaning - renaming\n",
    "country_df.columns = map(str.lower, country_df.columns)\n",
    "recovered_df.columns = map(str.lower, recovered_df.columns)\n",
    "death_df.columns = map(str.lower, death_df.columns)\n",
    "confirmed_df.columns = map(str.lower, confirmed_df.columns)"
   ]
  },
  {
   "cell_type": "code",
   "execution_count": null,
   "metadata": {},
   "outputs": [],
   "source": [
    "# data cleaning - renaming\n",
    "confirmed_df = confirmed_df.rename(columns = {'province/state': 'state', 'country/region': 'country'})\n",
    "recovered_df = recovered_df.rename(columns = {'province/state': 'state', 'country/region': 'country'})\n",
    "death_df = death_df.rename(columns = {'province/state': 'state', 'country/region': 'country'})\n",
    "country_df = country_df.rename(columns = {'country_region': 'country'})"
   ]
  },
  {
   "cell_type": "code",
   "execution_count": null,
   "metadata": {},
   "outputs": [],
   "source": [
    "# data cleaning - renaming\n",
    "# @hidden_cell\n",
    "sorted_country_df = country_df.sort_values('confirmed', ascending=False).head(5)\n",
    "sorted_country_df;"
   ]
  },
  {
   "cell_type": "code",
   "execution_count": null,
   "metadata": {},
   "outputs": [],
   "source": [
    "display(HTML('<h1>COVID-19 Confirmed/Death/Recovered cases by countries</h1>'\n",
    "             '<h2>Enter number of countries you want the data for</h2>'))"
   ]
  },
  {
   "cell_type": "code",
   "execution_count": null,
   "metadata": {},
   "outputs": [],
   "source": [
    "# Data preparation\n",
    "def highlight_col(x):\n",
    "    r = 'background-color: red'\n",
    "    p = 'background-color: purple'\n",
    "    g = 'background-color: grey'\n",
    "    temp_df = pd.DataFrame('', index=x.index, columns = x.columns)\n",
    "    temp_df.iloc[:,4] = p\n",
    "    temp_df.iloc[:,5] = r\n",
    "    temp_df.iloc[:,6] = g\n",
    "    return temp_df\n",
    "\n",
    "sorted_country_df.style.apply(highlight_col, axis=None)"
   ]
  },
  {
   "cell_type": "code",
   "execution_count": null,
   "metadata": {},
   "outputs": [],
   "source": [
    "display(HTML('<h1>Slide to check for the worst hit countries</h1>'))"
   ]
  },
  {
   "cell_type": "code",
   "execution_count": null,
   "metadata": {},
   "outputs": [],
   "source": [
    "# Data preparation\n",
    "# x and y given as array_like objects\n",
    "import plotly.express as px\n",
    "fig = px.scatter(sorted_country_df.head(10), x='country', y='confirmed', size='confirmed', \n",
    "                  color='country', hover_name='country', size_max=60)\n",
    "# fig.update_layout()\n",
    "fig.show()"
   ]
  },
  {
   "cell_type": "code",
   "execution_count": null,
   "metadata": {},
   "outputs": [],
   "source": [
    "display(HTML('<h1>Check the details of your country or the World</h1>'\n",
    "'<h4>Enter the name of your country(in capitalized format(e.g. Italy)) and world for total cases</h4>'))"
   ]
  },
  {
   "cell_type": "code",
   "execution_count": null,
   "metadata": {},
   "outputs": [],
   "source": [
    "import plotly.graph_objects as go\n",
    "\n",
    "def plot_cases_for_country(country):\n",
    "    labels = ['confirmed', 'deaths']\n",
    "    colors = ['blue', 'red']\n",
    "    mode_size = [6, 8]\n",
    "    line_size = [4,5]\n",
    "\n",
    "    df_list = [confirmed_df, death_df]\n",
    "\n",
    "    fig = go.Figure()\n",
    "\n",
    "    for i, df in enumerate(df_list):\n",
    "        if country == 'World' or country == 'world':\n",
    "            x_data = np.array(list(df.iloc[:, 5:].columns))\n",
    "            y_data = np.sum(np.asarray(df.iloc[:, 5:]), axis=0)\n",
    "        \n",
    "        else:\n",
    "            x_data = np.array(list(df.iloc[:, 5:].columns))\n",
    "            y_data = np.sum(np.asarray(df[df['country'] == country].iloc[:,5:]), axis=0)\n",
    "            \n",
    "        fig.add_trace(go.Scatter(x=x_data, y=y_data, mode='lines+markers',\n",
    "                                    name=labels[i],\n",
    "                                    line = dict(color=colors[i], width=line_size[i]),\n",
    "                                    connectgaps=True,\n",
    "                                    text = \"Total \" + str(labels[i]) + \": \"+ str(y_data[-1])\n",
    "                                ))\n",
    "\n",
    "    fig.show()\n",
    "        \n",
    "# plot_cases_for_country('China')\n",
    "\n",
    "interact(plot_cases_for_country, country='World');"
   ]
  },
  {
   "cell_type": "code",
   "execution_count": null,
   "metadata": {},
   "outputs": [],
   "source": [
    "display(HTML('<h1>Global spread of COVID-19</h1>'))"
   ]
  },
  {
   "cell_type": "code",
   "execution_count": null,
   "metadata": {
    "scrolled": true
   },
   "outputs": [],
   "source": [
    "import folium\n",
    "\n",
    "world_map = folium.Map(location=[11,0], tiles=\"cartodbpositron\", \n",
    "                       zoom_start=2, max_zoom=6, min_zoom=2)\n",
    "\n",
    "for i in range(len(confirmed_df)):\n",
    "    folium.Circle(\n",
    "    location=[confirmed_df.iloc[i]['lat'], confirmed_df.iloc[i]['long']],\n",
    "              fill = True,\n",
    "              radius = (int((np.log(confirmed_df.iloc[i,-1]+1.0001))) + 0.2)*50000,\n",
    "              fill_color = 'blue',\n",
    "              color = 'red',\n",
    "              tooltip = \"<div style='margin: 0; background-color: black; color: white;'>\"+\n",
    "                            \"<h4 style='text-align:center;font-weight:bold'>\"+confirmed_df.iloc[i]['country'] +\"</h4>\"+\n",
    "                            \"<hr style='margin:10px;color:white;'>\"+\n",
    "                            \"<ul style='color:white;list-style-type:circle;align-item:left;padding-left:20px;padding-right:20px'>\"+\n",
    "                            \"<li>Confirmed: \"+str(confirmed_df.iloc[i,-1])+\"</li>\"+\n",
    "                            \"<li>Deaths: \"+str(death_df.iloc[i,-1])+\"</li>\"+\n",
    "                            \"<li>Death Rate: \"+str(np.round(death_df.iloc[i,-1]/(confirmed_df.iloc[i,-1]+1.00001)*100,2))+ \"</li>\"+\n",
    "                        \"</ul></div>\",\n",
    "              ).add_to(world_map)\n",
    "              \n",
    "world_map"
   ]
  },
  {
   "cell_type": "code",
   "execution_count": null,
   "metadata": {},
   "outputs": [],
   "source": [
    "\n",
    "display(HTML('<h2>More Info on COVID-19:<a href=\"#More-Info-on-COVID-19:\"></h2>'\n",
    "'<ul>'\n",
    "             '<li><a href=\"https://www.who.int/health-topics/coronavirus\">https://www.who.int/health-topics/coronavirus</a></li>'\n",
    "             '<li><a href=\"https://www.who.int/emergencies/diseases/novel-coronavirus-2019\">https://www.who.int/emergencies/diseases/novel-coronavirus-2019</a></li>'\n",
    "             '<li><a href=\"https://www.nature.com/articles/s41597-020-0448-0\">https://www.nature.com/articles/s41597-020-0448-0</a></li>'\n",
    "'</ul>'))"
   ]
  },
  {
   "cell_type": "code",
   "execution_count": null,
   "metadata": {
    "scrolled": false
   },
   "outputs": [],
   "source": [
    "# import nbinteract as nbi\n",
    "# nbi.publish('kenaitian/voila/master', 'DataVisualization.ipynb');"
   ]
  },
  {
   "cell_type": "code",
   "execution_count": null,
   "metadata": {},
   "outputs": [],
   "source": [
    "import matplotlib.pyplot as plt\n",
    "\n",
    "@interact\n",
    "def polynomial(split=[0,100]):\n",
    "    plt.pie([split/100.0, 1.0-split/100.0])\n",
    "    plt.show()"
   ]
  },
  {
   "cell_type": "code",
   "execution_count": 4,
   "metadata": {},
   "outputs": [],
   "source": [
    "# First make sure that weaviate is running before you create schema\n",
    "client = weaviate.Client(\"http://localhost:8080\")\n",
    "client.create_schema(\"https://raw.githubusercontent.com/semi-technologies/weaviate-python-client/master/documentation/getting_started/people_schema.json\")"
   ]
  },
  {
   "cell_type": "code",
   "execution_count": 5,
   "metadata": {},
   "outputs": [
    {
     "data": {
      "text/plain": [
       "'2db436b5-0557-5016-9c5f-531412adf9c6'"
      ]
     },
     "execution_count": 5,
     "metadata": {},
     "output_type": "execute_result"
    }
   ],
   "source": [
    "# Create Things or Actions\n",
    "client.create_thing({\"name\": \"John von Neumann\"}, \"Person\", \"b36268d4-a6b5-5274-985f-45f13ce0c642\")\n",
    "client.create_thing({\"name\": \"Alan Turing\"}, \"Person\", \"1c9cd584-88fe-5010-83d0-017cb3fcb446\")\n",
    "client.create_thing({\"name\": \"Legends\"}, \"Group\", \"2db436b5-0557-5016-9c5f-531412adf9c6\")"
   ]
  },
  {
   "cell_type": "code",
   "execution_count": null,
   "metadata": {},
   "outputs": [],
   "source": [
    "# Actions can be created in a similar fashion like this:\n",
    "# client.create_action({\"description\": \"John von Neumann's book\"}, \"Buy\")"
   ]
  },
  {
   "cell_type": "code",
   "execution_count": 6,
   "metadata": {},
   "outputs": [],
   "source": [
    "# You can add cross-references through:\n",
    "client.add_reference_to_thing(\"2db436b5-0557-5016-9c5f-531412adf9c6\", \"members\", \"b36268d4-a6b5-5274-985f-45f13ce0c642\")\n",
    "client.add_reference_to_thing(\"2db436b5-0557-5016-9c5f-531412adf9c6\", \"members\", \"1c9cd584-88fe-5010-83d0-017cb3fcb446\")"
   ]
  },
  {
   "cell_type": "code",
   "execution_count": 7,
   "metadata": {},
   "outputs": [
    {
     "data": {
      "text/plain": [
       "'a36268d4-a6b5-5274-985f-45f13ce0c642'"
      ]
     },
     "execution_count": 7,
     "metadata": {},
     "output_type": "execute_result"
    }
   ],
   "source": [
    "client.create_thing({\"name\": \"Jesse James Gardner\"}, \"Person\", \"a36268d4-a6b5-5274-985f-45f13ce0c642\")"
   ]
  },
  {
   "cell_type": "code",
   "execution_count": null,
   "metadata": {},
   "outputs": [],
   "source": []
  }
 ],
 "metadata": {
  "kernelspec": {
   "display_name": "Python 3",
   "language": "python",
   "name": "python3"
  },
  "language_info": {
   "codemirror_mode": {
    "name": "ipython",
    "version": 3
   },
   "file_extension": ".py",
   "mimetype": "text/x-python",
   "name": "python",
   "nbconvert_exporter": "python",
   "pygments_lexer": "ipython3",
   "version": "3.7.6"
  }
 },
 "nbformat": 4,
 "nbformat_minor": 4
}
